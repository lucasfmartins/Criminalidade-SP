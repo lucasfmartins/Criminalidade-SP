{
  "nbformat": 4,
  "nbformat_minor": 0,
  "metadata": {
    "colab": {
      "name": "analiseCriminalidadeSP.ipynb",
      "provenance": [],
      "collapsed_sections": [],
      "authorship_tag": "ABX9TyNK3wxScKwDugl2+/rcW0Xv",
      "include_colab_link": true
    },
    "kernelspec": {
      "name": "python3",
      "display_name": "Python 3"
    }
  },
  "cells": [
    {
      "cell_type": "markdown",
      "metadata": {
        "id": "view-in-github",
        "colab_type": "text"
      },
      "source": [
        "<a href=\"https://colab.research.google.com/github/lucasfmartins/Criminalidade-SP/blob/main/analiseCriminalidadeSP.ipynb\" target=\"_parent\"><img src=\"https://colab.research.google.com/assets/colab-badge.svg\" alt=\"Open In Colab\"/></a>"
      ]
    },
    {
      "cell_type": "markdown",
      "metadata": {
        "id": "SxlwefhKJmfD"
      },
      "source": [
        "# Análise da Criminalidade em São Paulo\r\n",
        "\r\n",
        "<center><img src=\"https://raw.githubusercontent.com/carlosfab/escola-data-science/master/img/saopaulo_skyline.png\"></center>\r\n",
        "\r\n",
        "\r\n",
        "<center><img src=\"sp.png\"></center>\r\n",
        "\r\n",
        "\r\n"
      ]
    },
    {
      "cell_type": "markdown",
      "metadata": {
        "id": "YsKn3l86J--S"
      },
      "source": [
        "## Contextualização do Problema\r\n",
        "\r\n",
        "A criminalidade é um problema bastante recorrente no Brasil. Buscamos sempre formas de diminuir esses índices e usando técnicas de **Ciências de Dados** conseguimos entender melhor o que está acontecendo e gerar *insights* que direcionem ações capazes de diminuir os índices de criminalidade no país."
      ]
    },
    {
      "cell_type": "markdown",
      "metadata": {
        "id": "rHJ21KNoKJPw"
      },
      "source": [
        "## Obtenção dos Dados\r\n",
        "\r\n",
        "Os dados utilizados nesse projeto estão disponíveis [neste link](https://www.kaggle.com/danlessa/geospatial-sao-paulo-crime-database) e são referentes a crimes ocorridos na cidade de São Paulo, de 2010-2018.\r\n",
        "\r\n",
        "Dados como esses podem ser obtidos diretamente das secretarias de cada estado. Entretanto, a vantagem desses que utilizaremos é que já foi feito um processo de limpeza neles, o que facilita nosso trabalho na hora de explorá-los.\r\n",
        "\r\n",
        ">Serão utilizados dados não-oficiais da criminalidade. Mas sim de uma plataforma colaborativa, ***Onde Fui Roubado.***\r\n"
      ]
    },
    {
      "cell_type": "markdown",
      "metadata": {
        "id": "EZVkf0VVKXRO"
      },
      "source": [
        "##  \r\n",
        "\r\n",
        "Aqui, utilizaremos a biblioteca `Pandas`, que nos permite trabalhar com arquivos csv com mais facilidade, em um formato tabular, que lembra as tabelas do Excel.\r\n",
        "\r\n",
        "`Matplotlib` e `Seaborn` são bibliotecas gráficas que utilizaremos para plotar visualizações.\r\n",
        "\r\n",
        "`Numpy` é uma das bibliotecas mais utilizadas em Data Science, e nos dá suporte para trabalharmos com arrays multidimensionais, matrizes, etc."
      ]
    },
    {
      "cell_type": "code",
      "metadata": {
        "id": "6URfJjraJZA2"
      },
      "source": [
        "#Import os pacotes necessários\r\n",
        "import pandas as pd\r\n",
        "import matplotlib.pyplot as plt\r\n",
        "import numpy as np\r\n",
        "import seaborn as sns\r\n",
        "\r\n",
        "#definindo o estilo dos graficos\r\n",
        "sns.set_style()"
      ],
      "execution_count": 10,
      "outputs": []
    },
    {
      "cell_type": "markdown",
      "metadata": {
        "id": "tSdOSdROPqED"
      },
      "source": [
        "Com as bibliotecas carregadas, carregaremos nossos dados para começar as analises necessárias"
      ]
    },
    {
      "cell_type": "code",
      "metadata": {
        "colab": {
          "base_uri": "https://localhost:8080/",
          "height": 697
        },
        "id": "Nn2KSXzwPxz4",
        "outputId": "29990c34-2589-448b-ad1e-f789fc72a9fd"
      },
      "source": [
        "#carregando dados\r\n",
        "df = pd.read_csv('https://www.dropbox.com/s/ghgb8xggbhgyuk3/dataset-limpo.csv?dl=1', parse_dates=['time'])\r\n",
        "\r\n",
        "#transformando a coluna 'time' em datetime, e definindo como índice do dataframe\r\n",
        "df.index = pd.to_datetime(df['time'], infer_datetime_format=True)\r\n",
        "\r\n",
        "#verificando as primeiras entradas (tail(n) informa os ultimos n registros\r\n",
        "df.head()"
      ],
      "execution_count": 11,
      "outputs": [
        {
          "output_type": "execute_result",
          "data": {
            "text/html": [
              "<div>\n",
              "<style scoped>\n",
              "    .dataframe tbody tr th:only-of-type {\n",
              "        vertical-align: middle;\n",
              "    }\n",
              "\n",
              "    .dataframe tbody tr th {\n",
              "        vertical-align: top;\n",
              "    }\n",
              "\n",
              "    .dataframe thead th {\n",
              "        text-align: right;\n",
              "    }\n",
              "</style>\n",
              "<table border=\"1\" class=\"dataframe\">\n",
              "  <thead>\n",
              "    <tr style=\"text-align: right;\">\n",
              "      <th></th>\n",
              "      <th>id</th>\n",
              "      <th>bairro</th>\n",
              "      <th>created_at</th>\n",
              "      <th>descricao</th>\n",
              "      <th>endereco</th>\n",
              "      <th>id.1</th>\n",
              "      <th>ip_address_origin</th>\n",
              "      <th>latitude</th>\n",
              "      <th>longitude</th>\n",
              "      <th>registrou_bo</th>\n",
              "      <th>sexo</th>\n",
              "      <th>tipo_assalto_id</th>\n",
              "      <th>titulo</th>\n",
              "      <th>uri</th>\n",
              "      <th>user_id</th>\n",
              "      <th>valor_prejuizo</th>\n",
              "      <th>Bicicleta</th>\n",
              "      <th>Bolsa ou Mochila</th>\n",
              "      <th>Carteira</th>\n",
              "      <th>Cartão de Crédito</th>\n",
              "      <th>Celular</th>\n",
              "      <th>Computador</th>\n",
              "      <th>DVD</th>\n",
              "      <th>Dinheiro</th>\n",
              "      <th>Documentos</th>\n",
              "      <th>Equipamento de Som</th>\n",
              "      <th>Estepe</th>\n",
              "      <th>MP4 ou Ipod</th>\n",
              "      <th>Móveis</th>\n",
              "      <th>Notebook</th>\n",
              "      <th>Outros</th>\n",
              "      <th>Relógio</th>\n",
              "      <th>Som</th>\n",
              "      <th>Tablet</th>\n",
              "      <th>Tv</th>\n",
              "      <th>time</th>\n",
              "    </tr>\n",
              "    <tr>\n",
              "      <th>time</th>\n",
              "      <th></th>\n",
              "      <th></th>\n",
              "      <th></th>\n",
              "      <th></th>\n",
              "      <th></th>\n",
              "      <th></th>\n",
              "      <th></th>\n",
              "      <th></th>\n",
              "      <th></th>\n",
              "      <th></th>\n",
              "      <th></th>\n",
              "      <th></th>\n",
              "      <th></th>\n",
              "      <th></th>\n",
              "      <th></th>\n",
              "      <th></th>\n",
              "      <th></th>\n",
              "      <th></th>\n",
              "      <th></th>\n",
              "      <th></th>\n",
              "      <th></th>\n",
              "      <th></th>\n",
              "      <th></th>\n",
              "      <th></th>\n",
              "      <th></th>\n",
              "      <th></th>\n",
              "      <th></th>\n",
              "      <th></th>\n",
              "      <th></th>\n",
              "      <th></th>\n",
              "      <th></th>\n",
              "      <th></th>\n",
              "      <th></th>\n",
              "      <th></th>\n",
              "      <th></th>\n",
              "      <th></th>\n",
              "    </tr>\n",
              "  </thead>\n",
              "  <tbody>\n",
              "    <tr>\n",
              "      <th>2010-12-20 20:30:00</th>\n",
              "      <td>49787</td>\n",
              "      <td>Butantã</td>\n",
              "      <td>2015-06-16 23:34:01.000</td>\n",
              "      <td>5 bandidos, armas, entraram em casa e vasculha...</td>\n",
              "      <td>Avenida Trona Constanzo, 177, Butantã</td>\n",
              "      <td>49787</td>\n",
              "      <td>NaN</td>\n",
              "      <td>-23.580973</td>\n",
              "      <td>-46.719192</td>\n",
              "      <td>True</td>\n",
              "      <td>0</td>\n",
              "      <td>6</td>\n",
              "      <td>Entraram na minha casa e ficaram por 2h30</td>\n",
              "      <td>/denuncias/a71rZe-entraram-na-minha-casa-e-fic...</td>\n",
              "      <td>NaN</td>\n",
              "      <td>60.0</td>\n",
              "      <td>NaN</td>\n",
              "      <td>True</td>\n",
              "      <td>True</td>\n",
              "      <td>NaN</td>\n",
              "      <td>True</td>\n",
              "      <td>NaN</td>\n",
              "      <td>True</td>\n",
              "      <td>True</td>\n",
              "      <td>NaN</td>\n",
              "      <td>True</td>\n",
              "      <td>NaN</td>\n",
              "      <td>True</td>\n",
              "      <td>NaN</td>\n",
              "      <td>True</td>\n",
              "      <td>NaN</td>\n",
              "      <td>NaN</td>\n",
              "      <td>True</td>\n",
              "      <td>True</td>\n",
              "      <td>True</td>\n",
              "      <td>2010-12-20 20:30:00</td>\n",
              "    </tr>\n",
              "    <tr>\n",
              "      <th>2012-01-11 14:00:00</th>\n",
              "      <td>10679</td>\n",
              "      <td>Itaquera</td>\n",
              "      <td>2013-09-11 18:26:31.819</td>\n",
              "      <td>Meu caso foi para o Pequenas Causas, ganhamos ...</td>\n",
              "      <td>Avenida José Pinheiro Borges, 450-876 - Itaque...</td>\n",
              "      <td>10679</td>\n",
              "      <td>187.11.1.51</td>\n",
              "      <td>-23.540105</td>\n",
              "      <td>-46.462872</td>\n",
              "      <td>True</td>\n",
              "      <td>1</td>\n",
              "      <td>1</td>\n",
              "      <td>Rádio do Carro Furtado</td>\n",
              "      <td>/denuncias/z6nRrz-radio-do-carro-furtado</td>\n",
              "      <td>NaN</td>\n",
              "      <td>0.0</td>\n",
              "      <td>NaN</td>\n",
              "      <td>NaN</td>\n",
              "      <td>NaN</td>\n",
              "      <td>NaN</td>\n",
              "      <td>NaN</td>\n",
              "      <td>NaN</td>\n",
              "      <td>NaN</td>\n",
              "      <td>NaN</td>\n",
              "      <td>NaN</td>\n",
              "      <td>NaN</td>\n",
              "      <td>NaN</td>\n",
              "      <td>NaN</td>\n",
              "      <td>NaN</td>\n",
              "      <td>NaN</td>\n",
              "      <td>True</td>\n",
              "      <td>NaN</td>\n",
              "      <td>NaN</td>\n",
              "      <td>NaN</td>\n",
              "      <td>NaN</td>\n",
              "      <td>2012-01-11 14:00:00</td>\n",
              "    </tr>\n",
              "    <tr>\n",
              "      <th>2012-01-11 14:00:00</th>\n",
              "      <td>10682</td>\n",
              "      <td>Itaquera</td>\n",
              "      <td>2013-09-11 18:42:07.858</td>\n",
              "      <td>Meu caso foi para o Pequenas Causas, ganhamos ...</td>\n",
              "      <td>Rua Corínthians - Itaquera - Shopping Metrô It...</td>\n",
              "      <td>10682</td>\n",
              "      <td>189.19.160.82</td>\n",
              "      <td>-23.541765</td>\n",
              "      <td>-46.469562</td>\n",
              "      <td>True</td>\n",
              "      <td>1</td>\n",
              "      <td>1</td>\n",
              "      <td>Rádio do carro furtado no estacionamento PAGO ...</td>\n",
              "      <td>/denuncias/V9lNKa-radio-do-carro-furtado-no-es...</td>\n",
              "      <td>NaN</td>\n",
              "      <td>300.0</td>\n",
              "      <td>NaN</td>\n",
              "      <td>NaN</td>\n",
              "      <td>NaN</td>\n",
              "      <td>NaN</td>\n",
              "      <td>NaN</td>\n",
              "      <td>NaN</td>\n",
              "      <td>NaN</td>\n",
              "      <td>NaN</td>\n",
              "      <td>NaN</td>\n",
              "      <td>NaN</td>\n",
              "      <td>NaN</td>\n",
              "      <td>NaN</td>\n",
              "      <td>NaN</td>\n",
              "      <td>NaN</td>\n",
              "      <td>True</td>\n",
              "      <td>NaN</td>\n",
              "      <td>NaN</td>\n",
              "      <td>NaN</td>\n",
              "      <td>NaN</td>\n",
              "      <td>2012-01-11 14:00:00</td>\n",
              "    </tr>\n",
              "    <tr>\n",
              "      <th>2012-01-11 18:20:00</th>\n",
              "      <td>6166</td>\n",
              "      <td>Morumbi</td>\n",
              "      <td>2013-08-20 11:56:52.717</td>\n",
              "      <td>Estava parada no semáforo, o bandido veio e es...</td>\n",
              "      <td>Rua Pasquale Gallupi, 347 - Morumbi, São Paulo...</td>\n",
              "      <td>6166</td>\n",
              "      <td>199.67.140.46</td>\n",
              "      <td>-23.611693</td>\n",
              "      <td>-46.725935</td>\n",
              "      <td>True</td>\n",
              "      <td>0</td>\n",
              "      <td>5</td>\n",
              "      <td>Quebraram a janela do meu carro</td>\n",
              "      <td>/denuncias/a4NB1e-quebraram-a-janela-do-meu-carro</td>\n",
              "      <td>NaN</td>\n",
              "      <td>2500.0</td>\n",
              "      <td>NaN</td>\n",
              "      <td>True</td>\n",
              "      <td>True</td>\n",
              "      <td>True</td>\n",
              "      <td>True</td>\n",
              "      <td>NaN</td>\n",
              "      <td>NaN</td>\n",
              "      <td>NaN</td>\n",
              "      <td>True</td>\n",
              "      <td>NaN</td>\n",
              "      <td>NaN</td>\n",
              "      <td>NaN</td>\n",
              "      <td>NaN</td>\n",
              "      <td>NaN</td>\n",
              "      <td>NaN</td>\n",
              "      <td>NaN</td>\n",
              "      <td>NaN</td>\n",
              "      <td>NaN</td>\n",
              "      <td>NaN</td>\n",
              "      <td>2012-01-11 18:20:00</td>\n",
              "    </tr>\n",
              "    <tr>\n",
              "      <th>2012-01-11 08:15:00</th>\n",
              "      <td>6521</td>\n",
              "      <td>Alto de Pinheiros</td>\n",
              "      <td>2013-08-20 17:41:21.569</td>\n",
              "      <td>Arrombaram o porta malas do meu carro e levara...</td>\n",
              "      <td>Avenida Professor Fonseca Rodrigues, 1655 - Al...</td>\n",
              "      <td>6521</td>\n",
              "      <td>187.92.158.154</td>\n",
              "      <td>-23.544564</td>\n",
              "      <td>-46.721567</td>\n",
              "      <td>True</td>\n",
              "      <td>1</td>\n",
              "      <td>1</td>\n",
              "      <td>Arrombaram meu carro que estava no estacioname...</td>\n",
              "      <td>/denuncias/zD1lJa-arrombaram-meu-carro-que-est...</td>\n",
              "      <td>NaN</td>\n",
              "      <td>9999.0</td>\n",
              "      <td>NaN</td>\n",
              "      <td>True</td>\n",
              "      <td>True</td>\n",
              "      <td>True</td>\n",
              "      <td>NaN</td>\n",
              "      <td>NaN</td>\n",
              "      <td>NaN</td>\n",
              "      <td>NaN</td>\n",
              "      <td>True</td>\n",
              "      <td>NaN</td>\n",
              "      <td>NaN</td>\n",
              "      <td>NaN</td>\n",
              "      <td>NaN</td>\n",
              "      <td>True</td>\n",
              "      <td>True</td>\n",
              "      <td>NaN</td>\n",
              "      <td>NaN</td>\n",
              "      <td>NaN</td>\n",
              "      <td>NaN</td>\n",
              "      <td>2012-01-11 08:15:00</td>\n",
              "    </tr>\n",
              "  </tbody>\n",
              "</table>\n",
              "</div>"
            ],
            "text/plain": [
              "                        id             bairro  ...    Tv                time\n",
              "time                                           ...                          \n",
              "2010-12-20 20:30:00  49787            Butantã  ...  True 2010-12-20 20:30:00\n",
              "2012-01-11 14:00:00  10679           Itaquera  ...   NaN 2012-01-11 14:00:00\n",
              "2012-01-11 14:00:00  10682           Itaquera  ...   NaN 2012-01-11 14:00:00\n",
              "2012-01-11 18:20:00   6166            Morumbi  ...   NaN 2012-01-11 18:20:00\n",
              "2012-01-11 08:15:00   6521  Alto de Pinheiros  ...   NaN 2012-01-11 08:15:00\n",
              "\n",
              "[5 rows x 36 columns]"
            ]
          },
          "metadata": {
            "tags": []
          },
          "execution_count": 11
        }
      ]
    },
    {
      "cell_type": "markdown",
      "metadata": {
        "id": "C9iM4y69PpET"
      },
      "source": [
        "### **Dicionário de Variáveis**\r\n",
        "\r\n",
        "De acordo com a fonte dos dados, essa é a descrição de cada uma das variáveis presentes no dataset.\r\n",
        "\r\n",
        "* `id` - Número de identificação da ocorrência\r\n",
        "* `bairro` - Bairro onde ocorreu o crime\r\n",
        "* `created_at` - Data de criação da ocorrência\r\n",
        "* `descricao` - Descrição da ocorrência\r\n",
        "* `endereco` - Endereço da ocorrência\r\n",
        "* `id.1` - Desconhecido\r\n",
        "* `ip_address_origin` -  Endereço de IP de quem criou o registro\r\n",
        "* `latitude` - Latitude da ocorrência\r\n",
        "* `longitude` - Longitude da ocorrência\r\n",
        "* `registrou_bo` - Indica se a vítima registrou boletim de ocorrência\r\n",
        "* `sexo` - Sexo da vítima\r\n",
        "* `tipo_assalto_id` - Tipo de assalto\r\n",
        "* `titulo` - Título da ocorrência\r\n",
        "* `uri` - URI do incidente\r\n",
        "* `user_id` - ID do usuário\r\n",
        "* `valor_prejuizo` - Valor do prejuízo em reais\r\n",
        "\r\n",
        "A partir daqui, temos variáveis que tem como valor True (1) e NaN (Nulo). Mais a frente vamos tratar essas variáveis.\r\n",
        "\r\n",
        "Quando assinalado sim, significa que o item foi roubado. Caso seja NaN, significa que não foi levado.\r\n",
        "* `Bicicleta`\r\n",
        "* `Bolsa ou Mochila`\r\n",
        "* `Carteira`\r\n",
        "* `Cartão de Crédito`\r\n",
        "* `Celular`\r\n",
        "* `Computador`\r\n",
        "* `DVD`\r\n",
        "* `Dinheiro`\r\n",
        "* `Documentos`\r\n",
        "* `Equipamento de Som`\r\n",
        "* `Estepe`\r\n",
        "* `MP4 ou Ipod`\r\n",
        "* `Móveis`\r\n",
        "* `Notebook`\r\n",
        "* `Outros`\r\n",
        "* `Relógio`\r\n",
        "* `Som`\r\n",
        "* `Tablet`\r\n",
        "* `Tv`\r\n",
        "\r\n",
        "\r\n",
        "* `time` - Data e horário do incidente"
      ]
    },
    {
      "cell_type": "code",
      "metadata": {
        "colab": {
          "base_uri": "https://localhost:8080/"
        },
        "id": "2EjG3vh2SqHL",
        "outputId": "17208c16-97bf-4b49-83e4-572e49f5b758"
      },
      "source": [
        "#Conhecendo o conjunto de dados\r\n",
        "\r\n",
        "#Verificando as dimensões\r\n",
        "print('Variáveis: ', df.shape[1])\r\n",
        "print('Entradas: ', df.shape[0])"
      ],
      "execution_count": 13,
      "outputs": [
        {
          "output_type": "stream",
          "text": [
            "Variáveis:  36\n",
            "Entradas:  12899\n"
          ],
          "name": "stdout"
        }
      ]
    },
    {
      "cell_type": "markdown",
      "metadata": {
        "id": "jkFE7td3S_QO"
      },
      "source": [
        "Usando a função `info()` podemos verificar algumas informações sobre nosso conjunto de dados, como:\r\n",
        "\r\n",
        "* Quantidade de Colunas\r\n",
        "* Visualizar as colunas\r\n",
        "* Quantidade de entradas não nulas\r\n",
        "* O tipo de cada variável"
      ]
    },
    {
      "cell_type": "code",
      "metadata": {
        "colab": {
          "base_uri": "https://localhost:8080/"
        },
        "id": "LdlvpeEGTAog",
        "outputId": "4b8baa6d-f464-430d-da68-4df8df7ad49f"
      },
      "source": [
        "# verificando as informações sobre o dataset\r\n",
        "df.info()"
      ],
      "execution_count": 14,
      "outputs": [
        {
          "output_type": "stream",
          "text": [
            "<class 'pandas.core.frame.DataFrame'>\n",
            "DatetimeIndex: 12899 entries, 2010-12-20 20:30:00 to 2012-03-02 09:44:00\n",
            "Data columns (total 36 columns):\n",
            " #   Column              Non-Null Count  Dtype         \n",
            "---  ------              --------------  -----         \n",
            " 0   id                  12899 non-null  int64         \n",
            " 1   bairro              11196 non-null  object        \n",
            " 2   created_at          12899 non-null  object        \n",
            " 3   descricao           12898 non-null  object        \n",
            " 4   endereco            12899 non-null  object        \n",
            " 5   id.1                12899 non-null  int64         \n",
            " 6   ip_address_origin   11705 non-null  object        \n",
            " 7   latitude            12899 non-null  float64       \n",
            " 8   longitude           12899 non-null  float64       \n",
            " 9   registrou_bo        12375 non-null  object        \n",
            " 10  sexo                12899 non-null  int64         \n",
            " 11  tipo_assalto_id     12899 non-null  int64         \n",
            " 12  titulo              12899 non-null  object        \n",
            " 13  uri                 12899 non-null  object        \n",
            " 14  user_id             1166 non-null   float64       \n",
            " 15  valor_prejuizo      12899 non-null  float64       \n",
            " 16  Bicicleta           256 non-null    object        \n",
            " 17  Bolsa ou Mochila    3631 non-null   object        \n",
            " 18  Carteira            4243 non-null   object        \n",
            " 19  Cartão de Crédito   2776 non-null   object        \n",
            " 20  Celular             8377 non-null   object        \n",
            " 21  Computador          112 non-null    object        \n",
            " 22  DVD                 94 non-null     object        \n",
            " 23  Dinheiro            1730 non-null   object        \n",
            " 24  Documentos          3660 non-null   object        \n",
            " 25  Equipamento de Som  239 non-null    object        \n",
            " 26  Estepe              324 non-null    object        \n",
            " 27  MP4 ou Ipod         552 non-null    object        \n",
            " 28  Móveis              45 non-null     object        \n",
            " 29  Notebook            764 non-null    object        \n",
            " 30  Outros              5243 non-null   object        \n",
            " 31  Relógio             1350 non-null   object        \n",
            " 32  Som                 106 non-null    object        \n",
            " 33  Tablet              443 non-null    object        \n",
            " 34  Tv                  178 non-null    object        \n",
            " 35  time                12899 non-null  datetime64[ns]\n",
            "dtypes: datetime64[ns](1), float64(4), int64(4), object(27)\n",
            "memory usage: 3.6+ MB\n"
          ],
          "name": "stdout"
        }
      ]
    },
    {
      "cell_type": "markdown",
      "metadata": {
        "id": "uD191HyOTScm"
      },
      "source": [
        "A partir da função `describe()` podemos ver a distribuição estatística das variáveis. Tiramos informações como:\r\n",
        "\r\n",
        "* `count` - Contagem de entradas válidas para cada variável\r\n",
        "* `mean` - Média aritmética dos valores da variável\r\n",
        "* `std` - Desvio padrão\r\n",
        "* `min` - Menor valor existente para a variável\r\n",
        "* `25%` - Primeiro quartil\r\n",
        "* `50%` - Mediana\r\n",
        "* `75%` - Terceiro quartil\r\n",
        "* `max` - Maior valor existente para a variável\r\n",
        "\r\n",
        "No nosso caso, temos muitas variáveis numéricas representando categorias com números, e as informações precisam ser acessadas de outra forma. Entretanto, podemos olhar a variável `valor_prejuizo` e tirar alguns insights, como:\r\n",
        "\r\n",
        "* A média de de prejuízo causado pelos crimes é de 2.745,26 reais. \r\n",
        "* O maior prejuízo registrado foi de 1.000.000,00 (Um milhão) de reais.\r\n",
        "* O desvio padrão é de 11.115,12 reais, o que indica alta variação. Sabendo que o primeiro quartil está em 25 reais, sugere que há *outliers* nesse dataset, elevando a média e o desvio padrão.\r\n",
        "* O valor mínimo ser zero pode causar estranhamento a princípio, mas nem todos os crimes registrados irão causar prejuízo.\r\n",
        "\r\n"
      ]
    },
    {
      "cell_type": "code",
      "metadata": {
        "colab": {
          "base_uri": "https://localhost:8080/"
        },
        "id": "NpcX3gUtTenY",
        "outputId": "52c19175-0dff-4ea8-bc52-ed749bb872c4"
      },
      "source": [
        "# distribuição estatística da coluna valor_prejuizo\r\n",
        "df['valor_prejuizo'].describe()"
      ],
      "execution_count": 19,
      "outputs": [
        {
          "output_type": "execute_result",
          "data": {
            "text/plain": [
              "count      12899.000000\n",
              "mean        2745.264592\n",
              "std        11115.126241\n",
              "min            0.000000\n",
              "25%           25.000000\n",
              "50%          700.000000\n",
              "75%         2000.000000\n",
              "max      1000000.000000\n",
              "Name: valor_prejuizo, dtype: float64"
            ]
          },
          "metadata": {
            "tags": []
          },
          "execution_count": 19
        }
      ]
    },
    {
      "cell_type": "code",
      "metadata": {
        "colab": {
          "base_uri": "https://localhost:8080/",
          "height": 297
        },
        "id": "wjpUyvPuULBb",
        "outputId": "dee5f8fa-8155-4fbd-fb2f-16c5a3b1c626"
      },
      "source": [
        "# distribuição estatística das variáveis numéricas\r\n",
        "df.describe()"
      ],
      "execution_count": 20,
      "outputs": [
        {
          "output_type": "execute_result",
          "data": {
            "text/html": [
              "<div>\n",
              "<style scoped>\n",
              "    .dataframe tbody tr th:only-of-type {\n",
              "        vertical-align: middle;\n",
              "    }\n",
              "\n",
              "    .dataframe tbody tr th {\n",
              "        vertical-align: top;\n",
              "    }\n",
              "\n",
              "    .dataframe thead th {\n",
              "        text-align: right;\n",
              "    }\n",
              "</style>\n",
              "<table border=\"1\" class=\"dataframe\">\n",
              "  <thead>\n",
              "    <tr style=\"text-align: right;\">\n",
              "      <th></th>\n",
              "      <th>id</th>\n",
              "      <th>id.1</th>\n",
              "      <th>latitude</th>\n",
              "      <th>longitude</th>\n",
              "      <th>sexo</th>\n",
              "      <th>tipo_assalto_id</th>\n",
              "      <th>user_id</th>\n",
              "      <th>valor_prejuizo</th>\n",
              "    </tr>\n",
              "  </thead>\n",
              "  <tbody>\n",
              "    <tr>\n",
              "      <th>count</th>\n",
              "      <td>12899.000000</td>\n",
              "      <td>12899.000000</td>\n",
              "      <td>12899.000000</td>\n",
              "      <td>12899.000000</td>\n",
              "      <td>12899.000000</td>\n",
              "      <td>12899.000000</td>\n",
              "      <td>1166.000000</td>\n",
              "      <td>12899.000000</td>\n",
              "    </tr>\n",
              "    <tr>\n",
              "      <th>mean</th>\n",
              "      <td>45901.500194</td>\n",
              "      <td>45901.500194</td>\n",
              "      <td>-23.566805</td>\n",
              "      <td>-46.636817</td>\n",
              "      <td>0.612528</td>\n",
              "      <td>3.230483</td>\n",
              "      <td>16920.901372</td>\n",
              "      <td>2745.264592</td>\n",
              "    </tr>\n",
              "    <tr>\n",
              "      <th>std</th>\n",
              "      <td>24974.232979</td>\n",
              "      <td>24974.232979</td>\n",
              "      <td>0.366295</td>\n",
              "      <td>0.439810</td>\n",
              "      <td>0.487192</td>\n",
              "      <td>2.831739</td>\n",
              "      <td>5056.911119</td>\n",
              "      <td>11115.126241</td>\n",
              "    </tr>\n",
              "    <tr>\n",
              "      <th>min</th>\n",
              "      <td>21.000000</td>\n",
              "      <td>21.000000</td>\n",
              "      <td>-26.473037</td>\n",
              "      <td>-52.173376</td>\n",
              "      <td>0.000000</td>\n",
              "      <td>1.000000</td>\n",
              "      <td>1900.000000</td>\n",
              "      <td>0.000000</td>\n",
              "    </tr>\n",
              "    <tr>\n",
              "      <th>25%</th>\n",
              "      <td>25176.500000</td>\n",
              "      <td>25176.500000</td>\n",
              "      <td>-23.607056</td>\n",
              "      <td>-46.696776</td>\n",
              "      <td>0.000000</td>\n",
              "      <td>2.000000</td>\n",
              "      <td>13039.500000</td>\n",
              "      <td>25.000000</td>\n",
              "    </tr>\n",
              "    <tr>\n",
              "      <th>50%</th>\n",
              "      <td>44565.000000</td>\n",
              "      <td>44565.000000</td>\n",
              "      <td>-23.567079</td>\n",
              "      <td>-46.648535</td>\n",
              "      <td>1.000000</td>\n",
              "      <td>2.000000</td>\n",
              "      <td>16914.500000</td>\n",
              "      <td>700.000000</td>\n",
              "    </tr>\n",
              "    <tr>\n",
              "      <th>75%</th>\n",
              "      <td>68446.500000</td>\n",
              "      <td>68446.500000</td>\n",
              "      <td>-23.541510</td>\n",
              "      <td>-46.606492</td>\n",
              "      <td>1.000000</td>\n",
              "      <td>3.000000</td>\n",
              "      <td>21038.250000</td>\n",
              "      <td>2000.000000</td>\n",
              "    </tr>\n",
              "    <tr>\n",
              "      <th>max</th>\n",
              "      <td>88573.000000</td>\n",
              "      <td>88573.000000</td>\n",
              "      <td>-0.013911</td>\n",
              "      <td>0.004533</td>\n",
              "      <td>1.000000</td>\n",
              "      <td>11.000000</td>\n",
              "      <td>25802.000000</td>\n",
              "      <td>1000000.000000</td>\n",
              "    </tr>\n",
              "  </tbody>\n",
              "</table>\n",
              "</div>"
            ],
            "text/plain": [
              "                 id          id.1  ...       user_id  valor_prejuizo\n",
              "count  12899.000000  12899.000000  ...   1166.000000    12899.000000\n",
              "mean   45901.500194  45901.500194  ...  16920.901372     2745.264592\n",
              "std    24974.232979  24974.232979  ...   5056.911119    11115.126241\n",
              "min       21.000000     21.000000  ...   1900.000000        0.000000\n",
              "25%    25176.500000  25176.500000  ...  13039.500000       25.000000\n",
              "50%    44565.000000  44565.000000  ...  16914.500000      700.000000\n",
              "75%    68446.500000  68446.500000  ...  21038.250000     2000.000000\n",
              "max    88573.000000  88573.000000  ...  25802.000000  1000000.000000\n",
              "\n",
              "[8 rows x 8 columns]"
            ]
          },
          "metadata": {
            "tags": []
          },
          "execution_count": 20
        }
      ]
    },
    {
      "cell_type": "markdown",
      "metadata": {
        "id": "n6uDI6tvUXql"
      },
      "source": [
        "É possível, também, verificarmos a distribuição estatística das variáveis categóricas. Para isso, basta passarmos o argumento `include='O'` (Letra \"O\"), para que ele busque as variáveis categóricas.\r\n",
        "\r\n",
        "Aqui, receberemos outras respostas, como:\r\n",
        "* `count` - Contagem de entradas válidas para a variável\r\n",
        "* `unique` - Quantidade de entradas únicas\r\n",
        "* `top` - Entrada mais comum\r\n",
        "* `freq` - Frequência em que a entrada mais comum ocorre\r\n",
        "\r\n",
        "Podemos então tirar algumas informações, como:\r\n",
        "\r\n",
        "* Foram regristrados crimes em 1577 diferentes bairros\r\n",
        "* A maioria das pessoas registrou boletim de ocorrência\r\n",
        "* O título mais comum para registro de crime foi \"*Fui assaltado voltando do trabalho*\", o que diz muito sobre a situação da segurança pública na cidade.\r\n",
        "* O objeto mais roubado são os **celulares**\r\n"
      ]
    },
    {
      "cell_type": "code",
      "metadata": {
        "colab": {
          "base_uri": "https://localhost:8080/",
          "height": 312
        },
        "id": "t9X412CbUh16",
        "outputId": "6233b26e-78fa-419c-90a2-599e062b9b1f"
      },
      "source": [
        "#distribuição estatística das variáveis categóricas\r\n",
        "\r\n",
        "df.describe(include='O')"
      ],
      "execution_count": 21,
      "outputs": [
        {
          "output_type": "execute_result",
          "data": {
            "text/html": [
              "<div>\n",
              "<style scoped>\n",
              "    .dataframe tbody tr th:only-of-type {\n",
              "        vertical-align: middle;\n",
              "    }\n",
              "\n",
              "    .dataframe tbody tr th {\n",
              "        vertical-align: top;\n",
              "    }\n",
              "\n",
              "    .dataframe thead th {\n",
              "        text-align: right;\n",
              "    }\n",
              "</style>\n",
              "<table border=\"1\" class=\"dataframe\">\n",
              "  <thead>\n",
              "    <tr style=\"text-align: right;\">\n",
              "      <th></th>\n",
              "      <th>bairro</th>\n",
              "      <th>created_at</th>\n",
              "      <th>descricao</th>\n",
              "      <th>endereco</th>\n",
              "      <th>ip_address_origin</th>\n",
              "      <th>registrou_bo</th>\n",
              "      <th>titulo</th>\n",
              "      <th>uri</th>\n",
              "      <th>Bicicleta</th>\n",
              "      <th>Bolsa ou Mochila</th>\n",
              "      <th>Carteira</th>\n",
              "      <th>Cartão de Crédito</th>\n",
              "      <th>Celular</th>\n",
              "      <th>Computador</th>\n",
              "      <th>DVD</th>\n",
              "      <th>Dinheiro</th>\n",
              "      <th>Documentos</th>\n",
              "      <th>Equipamento de Som</th>\n",
              "      <th>Estepe</th>\n",
              "      <th>MP4 ou Ipod</th>\n",
              "      <th>Móveis</th>\n",
              "      <th>Notebook</th>\n",
              "      <th>Outros</th>\n",
              "      <th>Relógio</th>\n",
              "      <th>Som</th>\n",
              "      <th>Tablet</th>\n",
              "      <th>Tv</th>\n",
              "    </tr>\n",
              "  </thead>\n",
              "  <tbody>\n",
              "    <tr>\n",
              "      <th>count</th>\n",
              "      <td>11196</td>\n",
              "      <td>12899</td>\n",
              "      <td>12898</td>\n",
              "      <td>12899</td>\n",
              "      <td>11705</td>\n",
              "      <td>12375</td>\n",
              "      <td>12899</td>\n",
              "      <td>12899</td>\n",
              "      <td>256</td>\n",
              "      <td>3631</td>\n",
              "      <td>4243</td>\n",
              "      <td>2776</td>\n",
              "      <td>8377</td>\n",
              "      <td>112</td>\n",
              "      <td>94</td>\n",
              "      <td>1730</td>\n",
              "      <td>3660</td>\n",
              "      <td>239</td>\n",
              "      <td>324</td>\n",
              "      <td>552</td>\n",
              "      <td>45</td>\n",
              "      <td>764</td>\n",
              "      <td>5243</td>\n",
              "      <td>1350</td>\n",
              "      <td>106</td>\n",
              "      <td>443</td>\n",
              "      <td>178</td>\n",
              "    </tr>\n",
              "    <tr>\n",
              "      <th>unique</th>\n",
              "      <td>1577</td>\n",
              "      <td>12899</td>\n",
              "      <td>12898</td>\n",
              "      <td>11986</td>\n",
              "      <td>10432</td>\n",
              "      <td>2</td>\n",
              "      <td>10169</td>\n",
              "      <td>12899</td>\n",
              "      <td>1</td>\n",
              "      <td>1</td>\n",
              "      <td>1</td>\n",
              "      <td>1</td>\n",
              "      <td>1</td>\n",
              "      <td>1</td>\n",
              "      <td>1</td>\n",
              "      <td>1</td>\n",
              "      <td>1</td>\n",
              "      <td>1</td>\n",
              "      <td>1</td>\n",
              "      <td>1</td>\n",
              "      <td>1</td>\n",
              "      <td>1</td>\n",
              "      <td>1</td>\n",
              "      <td>1</td>\n",
              "      <td>1</td>\n",
              "      <td>1</td>\n",
              "      <td>1</td>\n",
              "    </tr>\n",
              "    <tr>\n",
              "      <th>top</th>\n",
              "      <td>São Paulo</td>\n",
              "      <td>2014-06-26 01:19:40.230</td>\n",
              "      <td>Carro estava estacionado na RUA CATHARINA SIMO...</td>\n",
              "      <td>Carregando endereço</td>\n",
              "      <td>127.0.0.1</td>\n",
              "      <td>True</td>\n",
              "      <td>Fui assaltado voltando do trabalho</td>\n",
              "      <td>/denuncias/ebQYAV-tentativa-de-roubo-com-agressao</td>\n",
              "      <td>True</td>\n",
              "      <td>True</td>\n",
              "      <td>True</td>\n",
              "      <td>True</td>\n",
              "      <td>True</td>\n",
              "      <td>True</td>\n",
              "      <td>True</td>\n",
              "      <td>True</td>\n",
              "      <td>True</td>\n",
              "      <td>True</td>\n",
              "      <td>True</td>\n",
              "      <td>True</td>\n",
              "      <td>True</td>\n",
              "      <td>True</td>\n",
              "      <td>True</td>\n",
              "      <td>True</td>\n",
              "      <td>True</td>\n",
              "      <td>True</td>\n",
              "      <td>True</td>\n",
              "    </tr>\n",
              "    <tr>\n",
              "      <th>freq</th>\n",
              "      <td>630</td>\n",
              "      <td>1</td>\n",
              "      <td>1</td>\n",
              "      <td>15</td>\n",
              "      <td>94</td>\n",
              "      <td>7340</td>\n",
              "      <td>154</td>\n",
              "      <td>1</td>\n",
              "      <td>256</td>\n",
              "      <td>3631</td>\n",
              "      <td>4243</td>\n",
              "      <td>2776</td>\n",
              "      <td>8377</td>\n",
              "      <td>112</td>\n",
              "      <td>94</td>\n",
              "      <td>1730</td>\n",
              "      <td>3660</td>\n",
              "      <td>239</td>\n",
              "      <td>324</td>\n",
              "      <td>552</td>\n",
              "      <td>45</td>\n",
              "      <td>764</td>\n",
              "      <td>5243</td>\n",
              "      <td>1350</td>\n",
              "      <td>106</td>\n",
              "      <td>443</td>\n",
              "      <td>178</td>\n",
              "    </tr>\n",
              "  </tbody>\n",
              "</table>\n",
              "</div>"
            ],
            "text/plain": [
              "           bairro               created_at  ... Tablet    Tv\n",
              "count       11196                    12899  ...    443   178\n",
              "unique       1577                    12899  ...      1     1\n",
              "top     São Paulo  2014-06-26 01:19:40.230  ...   True  True\n",
              "freq          630                        1  ...    443   178\n",
              "\n",
              "[4 rows x 27 columns]"
            ]
          },
          "metadata": {
            "tags": []
          },
          "execution_count": 21
        }
      ]
    },
    {
      "cell_type": "markdown",
      "metadata": {
        "id": "U5lqihpsVHW3"
      },
      "source": [
        "## Tratamento dos Dados\r\n",
        "\r\n",
        "Ao limpar/tratar os dados de um dataset, é preciso ter cuidado e entender bem o conjunto de dados. No nosso caso, já identificamos algumas variáveis e linhas com valores ausentes. \r\n",
        "\r\n",
        "Em algumas das variáveis, a ausência dos valores representa significado. Por exemplo, na variável celular, caso o valor seja `True`, significa que esse objeto foi levado, e caso seja `NaN` (nulo, ausente), significa que o objeto não foi levado ou até mesmo esquecido de ser lançado. Precisamos levar isso em consideração na hora de lidar com eles."
      ]
    },
    {
      "cell_type": "markdown",
      "metadata": {
        "id": "2IIhU5ytVRda"
      },
      "source": [
        "#### Criando uma Cópia do Dataset\r\n",
        "\r\n",
        "É uma boa prática utilizar uma cópia do dataset quando estiver fazendo a limpeza dos dados. Dessa forma, você sempre tem um *checkpoint* para voltar caso algo dê errado, além de poder sempre usar os dados originais como referência caso precise.\r\n",
        "`Como uma stage area`"
      ]
    },
    {
      "cell_type": "code",
      "metadata": {
        "colab": {
          "base_uri": "https://localhost:8080/",
          "height": 697
        },
        "id": "8D8PZEXVVhs-",
        "outputId": "75df23e1-783c-4990-eb6c-09e4a97980b4"
      },
      "source": [
        "# criando uma cópia do dataframe\r\n",
        "df_clean = df.copy()\r\n",
        "\r\n",
        "# colunas booleanas\r\n",
        "bool_columns = ['Bicicleta', 'Bolsa ou Mochila', 'Carteira','Cartão de Crédito',\r\n",
        "                'Celular', 'Computador','DVD', 'Dinheiro' , 'Documentos',\r\n",
        "                'Equipamento de Som','Estepe', 'MP4 ou Ipod', 'Móveis',\r\n",
        "                'Notebook','Outros', 'Relógio', 'Som', 'Tablet', 'Tv', 'registrou_bo']\r\n",
        "\r\n",
        "# substituindo NaN por False\r\n",
        "df_clean[bool_columns] = df_clean[bool_columns].fillna(False)\r\n",
        "\r\n",
        "#verificando o resultado\r\n",
        "df_clean.head()"
      ],
      "execution_count": 23,
      "outputs": [
        {
          "output_type": "execute_result",
          "data": {
            "text/html": [
              "<div>\n",
              "<style scoped>\n",
              "    .dataframe tbody tr th:only-of-type {\n",
              "        vertical-align: middle;\n",
              "    }\n",
              "\n",
              "    .dataframe tbody tr th {\n",
              "        vertical-align: top;\n",
              "    }\n",
              "\n",
              "    .dataframe thead th {\n",
              "        text-align: right;\n",
              "    }\n",
              "</style>\n",
              "<table border=\"1\" class=\"dataframe\">\n",
              "  <thead>\n",
              "    <tr style=\"text-align: right;\">\n",
              "      <th></th>\n",
              "      <th>id</th>\n",
              "      <th>bairro</th>\n",
              "      <th>created_at</th>\n",
              "      <th>descricao</th>\n",
              "      <th>endereco</th>\n",
              "      <th>id.1</th>\n",
              "      <th>ip_address_origin</th>\n",
              "      <th>latitude</th>\n",
              "      <th>longitude</th>\n",
              "      <th>registrou_bo</th>\n",
              "      <th>sexo</th>\n",
              "      <th>tipo_assalto_id</th>\n",
              "      <th>titulo</th>\n",
              "      <th>uri</th>\n",
              "      <th>user_id</th>\n",
              "      <th>valor_prejuizo</th>\n",
              "      <th>Bicicleta</th>\n",
              "      <th>Bolsa ou Mochila</th>\n",
              "      <th>Carteira</th>\n",
              "      <th>Cartão de Crédito</th>\n",
              "      <th>Celular</th>\n",
              "      <th>Computador</th>\n",
              "      <th>DVD</th>\n",
              "      <th>Dinheiro</th>\n",
              "      <th>Documentos</th>\n",
              "      <th>Equipamento de Som</th>\n",
              "      <th>Estepe</th>\n",
              "      <th>MP4 ou Ipod</th>\n",
              "      <th>Móveis</th>\n",
              "      <th>Notebook</th>\n",
              "      <th>Outros</th>\n",
              "      <th>Relógio</th>\n",
              "      <th>Som</th>\n",
              "      <th>Tablet</th>\n",
              "      <th>Tv</th>\n",
              "      <th>time</th>\n",
              "    </tr>\n",
              "    <tr>\n",
              "      <th>time</th>\n",
              "      <th></th>\n",
              "      <th></th>\n",
              "      <th></th>\n",
              "      <th></th>\n",
              "      <th></th>\n",
              "      <th></th>\n",
              "      <th></th>\n",
              "      <th></th>\n",
              "      <th></th>\n",
              "      <th></th>\n",
              "      <th></th>\n",
              "      <th></th>\n",
              "      <th></th>\n",
              "      <th></th>\n",
              "      <th></th>\n",
              "      <th></th>\n",
              "      <th></th>\n",
              "      <th></th>\n",
              "      <th></th>\n",
              "      <th></th>\n",
              "      <th></th>\n",
              "      <th></th>\n",
              "      <th></th>\n",
              "      <th></th>\n",
              "      <th></th>\n",
              "      <th></th>\n",
              "      <th></th>\n",
              "      <th></th>\n",
              "      <th></th>\n",
              "      <th></th>\n",
              "      <th></th>\n",
              "      <th></th>\n",
              "      <th></th>\n",
              "      <th></th>\n",
              "      <th></th>\n",
              "      <th></th>\n",
              "    </tr>\n",
              "  </thead>\n",
              "  <tbody>\n",
              "    <tr>\n",
              "      <th>2010-12-20 20:30:00</th>\n",
              "      <td>49787</td>\n",
              "      <td>Butantã</td>\n",
              "      <td>2015-06-16 23:34:01.000</td>\n",
              "      <td>5 bandidos, armas, entraram em casa e vasculha...</td>\n",
              "      <td>Avenida Trona Constanzo, 177, Butantã</td>\n",
              "      <td>49787</td>\n",
              "      <td>NaN</td>\n",
              "      <td>-23.580973</td>\n",
              "      <td>-46.719192</td>\n",
              "      <td>True</td>\n",
              "      <td>0</td>\n",
              "      <td>6</td>\n",
              "      <td>Entraram na minha casa e ficaram por 2h30</td>\n",
              "      <td>/denuncias/a71rZe-entraram-na-minha-casa-e-fic...</td>\n",
              "      <td>NaN</td>\n",
              "      <td>60.0</td>\n",
              "      <td>False</td>\n",
              "      <td>True</td>\n",
              "      <td>True</td>\n",
              "      <td>False</td>\n",
              "      <td>True</td>\n",
              "      <td>False</td>\n",
              "      <td>True</td>\n",
              "      <td>True</td>\n",
              "      <td>False</td>\n",
              "      <td>True</td>\n",
              "      <td>False</td>\n",
              "      <td>True</td>\n",
              "      <td>False</td>\n",
              "      <td>True</td>\n",
              "      <td>False</td>\n",
              "      <td>False</td>\n",
              "      <td>True</td>\n",
              "      <td>True</td>\n",
              "      <td>True</td>\n",
              "      <td>2010-12-20 20:30:00</td>\n",
              "    </tr>\n",
              "    <tr>\n",
              "      <th>2012-01-11 14:00:00</th>\n",
              "      <td>10679</td>\n",
              "      <td>Itaquera</td>\n",
              "      <td>2013-09-11 18:26:31.819</td>\n",
              "      <td>Meu caso foi para o Pequenas Causas, ganhamos ...</td>\n",
              "      <td>Avenida José Pinheiro Borges, 450-876 - Itaque...</td>\n",
              "      <td>10679</td>\n",
              "      <td>187.11.1.51</td>\n",
              "      <td>-23.540105</td>\n",
              "      <td>-46.462872</td>\n",
              "      <td>True</td>\n",
              "      <td>1</td>\n",
              "      <td>1</td>\n",
              "      <td>Rádio do Carro Furtado</td>\n",
              "      <td>/denuncias/z6nRrz-radio-do-carro-furtado</td>\n",
              "      <td>NaN</td>\n",
              "      <td>0.0</td>\n",
              "      <td>False</td>\n",
              "      <td>False</td>\n",
              "      <td>False</td>\n",
              "      <td>False</td>\n",
              "      <td>False</td>\n",
              "      <td>False</td>\n",
              "      <td>False</td>\n",
              "      <td>False</td>\n",
              "      <td>False</td>\n",
              "      <td>False</td>\n",
              "      <td>False</td>\n",
              "      <td>False</td>\n",
              "      <td>False</td>\n",
              "      <td>False</td>\n",
              "      <td>True</td>\n",
              "      <td>False</td>\n",
              "      <td>False</td>\n",
              "      <td>False</td>\n",
              "      <td>False</td>\n",
              "      <td>2012-01-11 14:00:00</td>\n",
              "    </tr>\n",
              "    <tr>\n",
              "      <th>2012-01-11 14:00:00</th>\n",
              "      <td>10682</td>\n",
              "      <td>Itaquera</td>\n",
              "      <td>2013-09-11 18:42:07.858</td>\n",
              "      <td>Meu caso foi para o Pequenas Causas, ganhamos ...</td>\n",
              "      <td>Rua Corínthians - Itaquera - Shopping Metrô It...</td>\n",
              "      <td>10682</td>\n",
              "      <td>189.19.160.82</td>\n",
              "      <td>-23.541765</td>\n",
              "      <td>-46.469562</td>\n",
              "      <td>True</td>\n",
              "      <td>1</td>\n",
              "      <td>1</td>\n",
              "      <td>Rádio do carro furtado no estacionamento PAGO ...</td>\n",
              "      <td>/denuncias/V9lNKa-radio-do-carro-furtado-no-es...</td>\n",
              "      <td>NaN</td>\n",
              "      <td>300.0</td>\n",
              "      <td>False</td>\n",
              "      <td>False</td>\n",
              "      <td>False</td>\n",
              "      <td>False</td>\n",
              "      <td>False</td>\n",
              "      <td>False</td>\n",
              "      <td>False</td>\n",
              "      <td>False</td>\n",
              "      <td>False</td>\n",
              "      <td>False</td>\n",
              "      <td>False</td>\n",
              "      <td>False</td>\n",
              "      <td>False</td>\n",
              "      <td>False</td>\n",
              "      <td>True</td>\n",
              "      <td>False</td>\n",
              "      <td>False</td>\n",
              "      <td>False</td>\n",
              "      <td>False</td>\n",
              "      <td>2012-01-11 14:00:00</td>\n",
              "    </tr>\n",
              "    <tr>\n",
              "      <th>2012-01-11 18:20:00</th>\n",
              "      <td>6166</td>\n",
              "      <td>Morumbi</td>\n",
              "      <td>2013-08-20 11:56:52.717</td>\n",
              "      <td>Estava parada no semáforo, o bandido veio e es...</td>\n",
              "      <td>Rua Pasquale Gallupi, 347 - Morumbi, São Paulo...</td>\n",
              "      <td>6166</td>\n",
              "      <td>199.67.140.46</td>\n",
              "      <td>-23.611693</td>\n",
              "      <td>-46.725935</td>\n",
              "      <td>True</td>\n",
              "      <td>0</td>\n",
              "      <td>5</td>\n",
              "      <td>Quebraram a janela do meu carro</td>\n",
              "      <td>/denuncias/a4NB1e-quebraram-a-janela-do-meu-carro</td>\n",
              "      <td>NaN</td>\n",
              "      <td>2500.0</td>\n",
              "      <td>False</td>\n",
              "      <td>True</td>\n",
              "      <td>True</td>\n",
              "      <td>True</td>\n",
              "      <td>True</td>\n",
              "      <td>False</td>\n",
              "      <td>False</td>\n",
              "      <td>False</td>\n",
              "      <td>True</td>\n",
              "      <td>False</td>\n",
              "      <td>False</td>\n",
              "      <td>False</td>\n",
              "      <td>False</td>\n",
              "      <td>False</td>\n",
              "      <td>False</td>\n",
              "      <td>False</td>\n",
              "      <td>False</td>\n",
              "      <td>False</td>\n",
              "      <td>False</td>\n",
              "      <td>2012-01-11 18:20:00</td>\n",
              "    </tr>\n",
              "    <tr>\n",
              "      <th>2012-01-11 08:15:00</th>\n",
              "      <td>6521</td>\n",
              "      <td>Alto de Pinheiros</td>\n",
              "      <td>2013-08-20 17:41:21.569</td>\n",
              "      <td>Arrombaram o porta malas do meu carro e levara...</td>\n",
              "      <td>Avenida Professor Fonseca Rodrigues, 1655 - Al...</td>\n",
              "      <td>6521</td>\n",
              "      <td>187.92.158.154</td>\n",
              "      <td>-23.544564</td>\n",
              "      <td>-46.721567</td>\n",
              "      <td>True</td>\n",
              "      <td>1</td>\n",
              "      <td>1</td>\n",
              "      <td>Arrombaram meu carro que estava no estacioname...</td>\n",
              "      <td>/denuncias/zD1lJa-arrombaram-meu-carro-que-est...</td>\n",
              "      <td>NaN</td>\n",
              "      <td>9999.0</td>\n",
              "      <td>False</td>\n",
              "      <td>True</td>\n",
              "      <td>True</td>\n",
              "      <td>True</td>\n",
              "      <td>False</td>\n",
              "      <td>False</td>\n",
              "      <td>False</td>\n",
              "      <td>False</td>\n",
              "      <td>True</td>\n",
              "      <td>False</td>\n",
              "      <td>False</td>\n",
              "      <td>False</td>\n",
              "      <td>False</td>\n",
              "      <td>True</td>\n",
              "      <td>True</td>\n",
              "      <td>False</td>\n",
              "      <td>False</td>\n",
              "      <td>False</td>\n",
              "      <td>False</td>\n",
              "      <td>2012-01-11 08:15:00</td>\n",
              "    </tr>\n",
              "  </tbody>\n",
              "</table>\n",
              "</div>"
            ],
            "text/plain": [
              "                        id             bairro  ...     Tv                time\n",
              "time                                           ...                           \n",
              "2010-12-20 20:30:00  49787            Butantã  ...   True 2010-12-20 20:30:00\n",
              "2012-01-11 14:00:00  10679           Itaquera  ...  False 2012-01-11 14:00:00\n",
              "2012-01-11 14:00:00  10682           Itaquera  ...  False 2012-01-11 14:00:00\n",
              "2012-01-11 18:20:00   6166            Morumbi  ...  False 2012-01-11 18:20:00\n",
              "2012-01-11 08:15:00   6521  Alto de Pinheiros  ...  False 2012-01-11 08:15:00\n",
              "\n",
              "[5 rows x 36 columns]"
            ]
          },
          "metadata": {
            "tags": []
          },
          "execution_count": 23
        }
      ]
    },
    {
      "cell_type": "markdown",
      "metadata": {
        "id": "V6zoDEjQW7JJ"
      },
      "source": [
        "Acima, vimos que ainda temos valores NaN, apesar dos valores `True` terem sido definidos como `1.0`.\r\n",
        "\r\n",
        "Para consertar isso, posteriormente vamos usar a função `fillna()`, para preencher os valores ausentes com o valor definido por nós, que no caso será `0`. Passaremos o parâmetro `inplace=True`, para que as mudanças sejam feitas no próprio dataset."
      ]
    },
    {
      "cell_type": "markdown",
      "metadata": {
        "id": "Jsd0DgnSXQop"
      },
      "source": [
        "Agora que limpamos alguns dos valores ausentes, é hora de lidarmos com os outros. Nesse caso, os dados ausentes não possuem significado. Simplesmente estão faltando.\r\n",
        "\r\n",
        "Então precisamos anaisar alguns aspectos, como:\r\n",
        "* A quantidade de linhas com valor ausente para cada variável\r\n",
        "* O peso dessa variável para a análise\r\n",
        "* A facilidade de inferir um valor para essas entradas ausentes\r\n",
        "* O impacto que cada método de preenchimento terá na análise e possíveis modelos de Machine Learning a ser aplicado.\r\n",
        "\r\n",
        "No nosso caso, temos a variável 'user_id', que não tem tanto valor analítico pra nós, e tem mais de 90% das entradas com esse valor faltando. Portanto, não seria um problema desconsiderar, e excluir essa variável. Isso é o que faremos.\r\n",
        "\r\n"
      ]
    },
    {
      "cell_type": "code",
      "metadata": {
        "colab": {
          "base_uri": "https://localhost:8080/"
        },
        "id": "aEya0p41ZJY7",
        "outputId": "927ffe5b-6536-49f0-ef6f-28a46b3fc203"
      },
      "source": [
        "# Checando a % de valores ausentes para cada variável, iternado uma soma em nosso dataframe\r\n",
        "(df_clean.isnull().sum() / df_clean.shape[0]).sort_values(ascending=False)"
      ],
      "execution_count": 40,
      "outputs": [
        {
          "output_type": "execute_result",
          "data": {
            "text/plain": [
              "descricao             0.000089\n",
              "time                  0.000000\n",
              "Tv                    0.000000\n",
              "bairro                0.000000\n",
              "created_at            0.000000\n",
              "endereco              0.000000\n",
              "latitude              0.000000\n",
              "longitude             0.000000\n",
              "registrou_bo          0.000000\n",
              "sexo                  0.000000\n",
              "tipo_assalto_id       0.000000\n",
              "titulo                0.000000\n",
              "valor_prejuizo        0.000000\n",
              "Bicicleta             0.000000\n",
              "Bolsa ou Mochila      0.000000\n",
              "Carteira              0.000000\n",
              "Cartão de Crédito     0.000000\n",
              "Celular               0.000000\n",
              "Computador            0.000000\n",
              "DVD                   0.000000\n",
              "Dinheiro              0.000000\n",
              "Documentos            0.000000\n",
              "Equipamento de Som    0.000000\n",
              "Estepe                0.000000\n",
              "MP4 ou Ipod           0.000000\n",
              "Móveis                0.000000\n",
              "Notebook              0.000000\n",
              "Outros                0.000000\n",
              "Relógio               0.000000\n",
              "Som                   0.000000\n",
              "Tablet                0.000000\n",
              "id                    0.000000\n",
              "dtype: float64"
            ]
          },
          "metadata": {
            "tags": []
          },
          "execution_count": 40
        }
      ]
    },
    {
      "cell_type": "markdown",
      "metadata": {
        "id": "IX7qNoZRbM54"
      },
      "source": [
        "#### Preenchendo Dados Ausentes\r\n",
        "\r\n",
        "Quando pensamos em preencher os dados, temos algumas opções:\r\n",
        "\r\n",
        "* Inserir a média da coluna\r\n",
        "* Inserir a moda (valor mais frequente) da coluna\r\n",
        "* Criar um modelo que faça a previsão desses valores\r\n",
        "\r\n",
        "Tudo vai depender do caso em estudo, e qual solução tem o melhor *trade-off* entre trabalho necessário, resultado possível e efeito da variável sobre a análise/modelo.\r\n",
        "\r\n",
        "No caso das outras variáveis com valores ausentes, não vale a pena criar um modelo para inferir, estão em um número que pode ser considerado pequeno, e não terão grande impacto na análise.\r\n",
        "\r\n",
        "Como o intuito desse projeto é um estudo da de fundamentos de Análise de Dados, manterei simples, e apenas excluir os dados ausentes relacionadas à coluna `bairro`.\r\n",
        "\r\n",
        "Pensando na construção de um *Dashboard* (e não em um modelo de Machine Learning), vou eliminar as colunas que não serão mais necessárias."
      ]
    },
    {
      "cell_type": "code",
      "metadata": {
        "colab": {
          "base_uri": "https://localhost:8080/",
          "height": 340
        },
        "id": "R2R6lVmQbt8x",
        "outputId": "991fb767-db0e-4564-a417-e45421afb3db"
      },
      "source": [
        "# removendo as linhas com dados ausentes\r\n",
        "df_clean.dropna(subset=['bairro'], axis=0, inplace=True)\r\n",
        "\r\n",
        "# removendo a coluna user_id\r\n",
        "df_clean.drop(['user_id','ip_address_origin','uri', 'id.1'], axis=1, inplace=True)"
      ],
      "execution_count": 41,
      "outputs": [
        {
          "output_type": "error",
          "ename": "KeyError",
          "evalue": "ignored",
          "traceback": [
            "\u001b[0;31m---------------------------------------------------------------------------\u001b[0m",
            "\u001b[0;31mKeyError\u001b[0m                                  Traceback (most recent call last)",
            "\u001b[0;32m<ipython-input-41-4b0e086c8877>\u001b[0m in \u001b[0;36m<module>\u001b[0;34m()\u001b[0m\n\u001b[1;32m      3\u001b[0m \u001b[0;34m\u001b[0m\u001b[0m\n\u001b[1;32m      4\u001b[0m \u001b[0;31m# removendo a coluna user_id\u001b[0m\u001b[0;34m\u001b[0m\u001b[0;34m\u001b[0m\u001b[0;34m\u001b[0m\u001b[0m\n\u001b[0;32m----> 5\u001b[0;31m \u001b[0mdf_clean\u001b[0m\u001b[0;34m.\u001b[0m\u001b[0mdrop\u001b[0m\u001b[0;34m(\u001b[0m\u001b[0;34m[\u001b[0m\u001b[0;34m'user_id'\u001b[0m\u001b[0;34m,\u001b[0m\u001b[0;34m'ip_address_origin'\u001b[0m\u001b[0;34m,\u001b[0m\u001b[0;34m'uri'\u001b[0m\u001b[0;34m,\u001b[0m \u001b[0;34m'id.1'\u001b[0m\u001b[0;34m]\u001b[0m\u001b[0;34m,\u001b[0m \u001b[0maxis\u001b[0m\u001b[0;34m=\u001b[0m\u001b[0;36m1\u001b[0m\u001b[0;34m,\u001b[0m \u001b[0minplace\u001b[0m\u001b[0;34m=\u001b[0m\u001b[0;32mTrue\u001b[0m\u001b[0;34m)\u001b[0m\u001b[0;34m\u001b[0m\u001b[0;34m\u001b[0m\u001b[0m\n\u001b[0m",
            "\u001b[0;32m/usr/local/lib/python3.6/dist-packages/pandas/core/frame.py\u001b[0m in \u001b[0;36mdrop\u001b[0;34m(self, labels, axis, index, columns, level, inplace, errors)\u001b[0m\n\u001b[1;32m   4172\u001b[0m             \u001b[0mlevel\u001b[0m\u001b[0;34m=\u001b[0m\u001b[0mlevel\u001b[0m\u001b[0;34m,\u001b[0m\u001b[0;34m\u001b[0m\u001b[0;34m\u001b[0m\u001b[0m\n\u001b[1;32m   4173\u001b[0m             \u001b[0minplace\u001b[0m\u001b[0;34m=\u001b[0m\u001b[0minplace\u001b[0m\u001b[0;34m,\u001b[0m\u001b[0;34m\u001b[0m\u001b[0;34m\u001b[0m\u001b[0m\n\u001b[0;32m-> 4174\u001b[0;31m             \u001b[0merrors\u001b[0m\u001b[0;34m=\u001b[0m\u001b[0merrors\u001b[0m\u001b[0;34m,\u001b[0m\u001b[0;34m\u001b[0m\u001b[0;34m\u001b[0m\u001b[0m\n\u001b[0m\u001b[1;32m   4175\u001b[0m         )\n\u001b[1;32m   4176\u001b[0m \u001b[0;34m\u001b[0m\u001b[0m\n",
            "\u001b[0;32m/usr/local/lib/python3.6/dist-packages/pandas/core/generic.py\u001b[0m in \u001b[0;36mdrop\u001b[0;34m(self, labels, axis, index, columns, level, inplace, errors)\u001b[0m\n\u001b[1;32m   3887\u001b[0m         \u001b[0;32mfor\u001b[0m \u001b[0maxis\u001b[0m\u001b[0;34m,\u001b[0m \u001b[0mlabels\u001b[0m \u001b[0;32min\u001b[0m \u001b[0maxes\u001b[0m\u001b[0;34m.\u001b[0m\u001b[0mitems\u001b[0m\u001b[0;34m(\u001b[0m\u001b[0;34m)\u001b[0m\u001b[0;34m:\u001b[0m\u001b[0;34m\u001b[0m\u001b[0;34m\u001b[0m\u001b[0m\n\u001b[1;32m   3888\u001b[0m             \u001b[0;32mif\u001b[0m \u001b[0mlabels\u001b[0m \u001b[0;32mis\u001b[0m \u001b[0;32mnot\u001b[0m \u001b[0;32mNone\u001b[0m\u001b[0;34m:\u001b[0m\u001b[0;34m\u001b[0m\u001b[0;34m\u001b[0m\u001b[0m\n\u001b[0;32m-> 3889\u001b[0;31m                 \u001b[0mobj\u001b[0m \u001b[0;34m=\u001b[0m \u001b[0mobj\u001b[0m\u001b[0;34m.\u001b[0m\u001b[0m_drop_axis\u001b[0m\u001b[0;34m(\u001b[0m\u001b[0mlabels\u001b[0m\u001b[0;34m,\u001b[0m \u001b[0maxis\u001b[0m\u001b[0;34m,\u001b[0m \u001b[0mlevel\u001b[0m\u001b[0;34m=\u001b[0m\u001b[0mlevel\u001b[0m\u001b[0;34m,\u001b[0m \u001b[0merrors\u001b[0m\u001b[0;34m=\u001b[0m\u001b[0merrors\u001b[0m\u001b[0;34m)\u001b[0m\u001b[0;34m\u001b[0m\u001b[0;34m\u001b[0m\u001b[0m\n\u001b[0m\u001b[1;32m   3890\u001b[0m \u001b[0;34m\u001b[0m\u001b[0m\n\u001b[1;32m   3891\u001b[0m         \u001b[0;32mif\u001b[0m \u001b[0minplace\u001b[0m\u001b[0;34m:\u001b[0m\u001b[0;34m\u001b[0m\u001b[0;34m\u001b[0m\u001b[0m\n",
            "\u001b[0;32m/usr/local/lib/python3.6/dist-packages/pandas/core/generic.py\u001b[0m in \u001b[0;36m_drop_axis\u001b[0;34m(self, labels, axis, level, errors)\u001b[0m\n\u001b[1;32m   3921\u001b[0m                 \u001b[0mnew_axis\u001b[0m \u001b[0;34m=\u001b[0m \u001b[0maxis\u001b[0m\u001b[0;34m.\u001b[0m\u001b[0mdrop\u001b[0m\u001b[0;34m(\u001b[0m\u001b[0mlabels\u001b[0m\u001b[0;34m,\u001b[0m \u001b[0mlevel\u001b[0m\u001b[0;34m=\u001b[0m\u001b[0mlevel\u001b[0m\u001b[0;34m,\u001b[0m \u001b[0merrors\u001b[0m\u001b[0;34m=\u001b[0m\u001b[0merrors\u001b[0m\u001b[0;34m)\u001b[0m\u001b[0;34m\u001b[0m\u001b[0;34m\u001b[0m\u001b[0m\n\u001b[1;32m   3922\u001b[0m             \u001b[0;32melse\u001b[0m\u001b[0;34m:\u001b[0m\u001b[0;34m\u001b[0m\u001b[0;34m\u001b[0m\u001b[0m\n\u001b[0;32m-> 3923\u001b[0;31m                 \u001b[0mnew_axis\u001b[0m \u001b[0;34m=\u001b[0m \u001b[0maxis\u001b[0m\u001b[0;34m.\u001b[0m\u001b[0mdrop\u001b[0m\u001b[0;34m(\u001b[0m\u001b[0mlabels\u001b[0m\u001b[0;34m,\u001b[0m \u001b[0merrors\u001b[0m\u001b[0;34m=\u001b[0m\u001b[0merrors\u001b[0m\u001b[0;34m)\u001b[0m\u001b[0;34m\u001b[0m\u001b[0;34m\u001b[0m\u001b[0m\n\u001b[0m\u001b[1;32m   3924\u001b[0m             \u001b[0mresult\u001b[0m \u001b[0;34m=\u001b[0m \u001b[0mself\u001b[0m\u001b[0;34m.\u001b[0m\u001b[0mreindex\u001b[0m\u001b[0;34m(\u001b[0m\u001b[0;34m**\u001b[0m\u001b[0;34m{\u001b[0m\u001b[0maxis_name\u001b[0m\u001b[0;34m:\u001b[0m \u001b[0mnew_axis\u001b[0m\u001b[0;34m}\u001b[0m\u001b[0;34m)\u001b[0m\u001b[0;34m\u001b[0m\u001b[0;34m\u001b[0m\u001b[0m\n\u001b[1;32m   3925\u001b[0m \u001b[0;34m\u001b[0m\u001b[0m\n",
            "\u001b[0;32m/usr/local/lib/python3.6/dist-packages/pandas/core/indexes/base.py\u001b[0m in \u001b[0;36mdrop\u001b[0;34m(self, labels, errors)\u001b[0m\n\u001b[1;32m   5285\u001b[0m         \u001b[0;32mif\u001b[0m \u001b[0mmask\u001b[0m\u001b[0;34m.\u001b[0m\u001b[0many\u001b[0m\u001b[0;34m(\u001b[0m\u001b[0;34m)\u001b[0m\u001b[0;34m:\u001b[0m\u001b[0;34m\u001b[0m\u001b[0;34m\u001b[0m\u001b[0m\n\u001b[1;32m   5286\u001b[0m             \u001b[0;32mif\u001b[0m \u001b[0merrors\u001b[0m \u001b[0;34m!=\u001b[0m \u001b[0;34m\"ignore\"\u001b[0m\u001b[0;34m:\u001b[0m\u001b[0;34m\u001b[0m\u001b[0;34m\u001b[0m\u001b[0m\n\u001b[0;32m-> 5287\u001b[0;31m                 \u001b[0;32mraise\u001b[0m \u001b[0mKeyError\u001b[0m\u001b[0;34m(\u001b[0m\u001b[0;34mf\"{labels[mask]} not found in axis\"\u001b[0m\u001b[0;34m)\u001b[0m\u001b[0;34m\u001b[0m\u001b[0;34m\u001b[0m\u001b[0m\n\u001b[0m\u001b[1;32m   5288\u001b[0m             \u001b[0mindexer\u001b[0m \u001b[0;34m=\u001b[0m \u001b[0mindexer\u001b[0m\u001b[0;34m[\u001b[0m\u001b[0;34m~\u001b[0m\u001b[0mmask\u001b[0m\u001b[0;34m]\u001b[0m\u001b[0;34m\u001b[0m\u001b[0;34m\u001b[0m\u001b[0m\n\u001b[1;32m   5289\u001b[0m         \u001b[0;32mreturn\u001b[0m \u001b[0mself\u001b[0m\u001b[0;34m.\u001b[0m\u001b[0mdelete\u001b[0m\u001b[0;34m(\u001b[0m\u001b[0mindexer\u001b[0m\u001b[0;34m)\u001b[0m\u001b[0;34m\u001b[0m\u001b[0;34m\u001b[0m\u001b[0m\n",
            "\u001b[0;31mKeyError\u001b[0m: \"['user_id' 'ip_address_origin' 'uri' 'id.1'] not found in axis\""
          ]
        }
      ]
    },
    {
      "cell_type": "markdown",
      "metadata": {
        "id": "NL_uozqjcdYc"
      },
      "source": [
        "Para garantir que ainda temos um número razoável de linhas, vamos conferir as linhas usando a função `shape`."
      ]
    },
    {
      "cell_type": "code",
      "metadata": {
        "colab": {
          "base_uri": "https://localhost:8080/"
        },
        "id": "MgY0_xOCcfqy",
        "outputId": "4dbb0da9-c8f5-41b4-ed4d-865f644a2d37"
      },
      "source": [
        "# conferindo a quantidade de linhas remanescentes, [0]row [1] column\r\n",
        "df_clean.shape[0]"
      ],
      "execution_count": 42,
      "outputs": [
        {
          "output_type": "execute_result",
          "data": {
            "text/plain": [
              "11196"
            ]
          },
          "metadata": {
            "tags": []
          },
          "execution_count": 42
        }
      ]
    },
    {
      "cell_type": "markdown",
      "metadata": {
        "id": "DXOXGblIdIoH"
      },
      "source": [
        "Agora com conjunto de dados que não possui dados ausentes, é hora de plotarmos algumas visualizações!"
      ]
    },
    {
      "cell_type": "code",
      "metadata": {
        "colab": {
          "base_uri": "https://localhost:8080/"
        },
        "id": "nbfR5lBcdR3V",
        "outputId": "db07242e-9b35-4ac1-bc5f-79d3c764c9ae"
      },
      "source": [
        "# Checando novamente a porcentagem de dados ausente\r\n",
        "(df_clean.isnull().sum() / df_clean.shape[0]).sort_values(ascending=False)"
      ],
      "execution_count": 44,
      "outputs": [
        {
          "output_type": "execute_result",
          "data": {
            "text/plain": [
              "descricao             0.000089\n",
              "time                  0.000000\n",
              "Tv                    0.000000\n",
              "bairro                0.000000\n",
              "created_at            0.000000\n",
              "endereco              0.000000\n",
              "latitude              0.000000\n",
              "longitude             0.000000\n",
              "registrou_bo          0.000000\n",
              "sexo                  0.000000\n",
              "tipo_assalto_id       0.000000\n",
              "titulo                0.000000\n",
              "valor_prejuizo        0.000000\n",
              "Bicicleta             0.000000\n",
              "Bolsa ou Mochila      0.000000\n",
              "Carteira              0.000000\n",
              "Cartão de Crédito     0.000000\n",
              "Celular               0.000000\n",
              "Computador            0.000000\n",
              "DVD                   0.000000\n",
              "Dinheiro              0.000000\n",
              "Documentos            0.000000\n",
              "Equipamento de Som    0.000000\n",
              "Estepe                0.000000\n",
              "MP4 ou Ipod           0.000000\n",
              "Móveis                0.000000\n",
              "Notebook              0.000000\n",
              "Outros                0.000000\n",
              "Relógio               0.000000\n",
              "Som                   0.000000\n",
              "Tablet                0.000000\n",
              "id                    0.000000\n",
              "dtype: float64"
            ]
          },
          "metadata": {
            "tags": []
          },
          "execution_count": 44
        }
      ]
    },
    {
      "cell_type": "code",
      "metadata": {
        "colab": {
          "base_uri": "https://localhost:8080/",
          "height": 697
        },
        "id": "GwMFIDKldkU6",
        "outputId": "49bce0a7-e3fc-4c5e-da70-0511a513f77e"
      },
      "source": [
        "# verificando o estado atual do dataset\r\n",
        "df_clean.head()"
      ],
      "execution_count": 45,
      "outputs": [
        {
          "output_type": "execute_result",
          "data": {
            "text/html": [
              "<div>\n",
              "<style scoped>\n",
              "    .dataframe tbody tr th:only-of-type {\n",
              "        vertical-align: middle;\n",
              "    }\n",
              "\n",
              "    .dataframe tbody tr th {\n",
              "        vertical-align: top;\n",
              "    }\n",
              "\n",
              "    .dataframe thead th {\n",
              "        text-align: right;\n",
              "    }\n",
              "</style>\n",
              "<table border=\"1\" class=\"dataframe\">\n",
              "  <thead>\n",
              "    <tr style=\"text-align: right;\">\n",
              "      <th></th>\n",
              "      <th>id</th>\n",
              "      <th>bairro</th>\n",
              "      <th>created_at</th>\n",
              "      <th>descricao</th>\n",
              "      <th>endereco</th>\n",
              "      <th>latitude</th>\n",
              "      <th>longitude</th>\n",
              "      <th>registrou_bo</th>\n",
              "      <th>sexo</th>\n",
              "      <th>tipo_assalto_id</th>\n",
              "      <th>titulo</th>\n",
              "      <th>valor_prejuizo</th>\n",
              "      <th>Bicicleta</th>\n",
              "      <th>Bolsa ou Mochila</th>\n",
              "      <th>Carteira</th>\n",
              "      <th>Cartão de Crédito</th>\n",
              "      <th>Celular</th>\n",
              "      <th>Computador</th>\n",
              "      <th>DVD</th>\n",
              "      <th>Dinheiro</th>\n",
              "      <th>Documentos</th>\n",
              "      <th>Equipamento de Som</th>\n",
              "      <th>Estepe</th>\n",
              "      <th>MP4 ou Ipod</th>\n",
              "      <th>Móveis</th>\n",
              "      <th>Notebook</th>\n",
              "      <th>Outros</th>\n",
              "      <th>Relógio</th>\n",
              "      <th>Som</th>\n",
              "      <th>Tablet</th>\n",
              "      <th>Tv</th>\n",
              "      <th>time</th>\n",
              "    </tr>\n",
              "    <tr>\n",
              "      <th>time</th>\n",
              "      <th></th>\n",
              "      <th></th>\n",
              "      <th></th>\n",
              "      <th></th>\n",
              "      <th></th>\n",
              "      <th></th>\n",
              "      <th></th>\n",
              "      <th></th>\n",
              "      <th></th>\n",
              "      <th></th>\n",
              "      <th></th>\n",
              "      <th></th>\n",
              "      <th></th>\n",
              "      <th></th>\n",
              "      <th></th>\n",
              "      <th></th>\n",
              "      <th></th>\n",
              "      <th></th>\n",
              "      <th></th>\n",
              "      <th></th>\n",
              "      <th></th>\n",
              "      <th></th>\n",
              "      <th></th>\n",
              "      <th></th>\n",
              "      <th></th>\n",
              "      <th></th>\n",
              "      <th></th>\n",
              "      <th></th>\n",
              "      <th></th>\n",
              "      <th></th>\n",
              "      <th></th>\n",
              "      <th></th>\n",
              "    </tr>\n",
              "  </thead>\n",
              "  <tbody>\n",
              "    <tr>\n",
              "      <th>2010-12-20 20:30:00</th>\n",
              "      <td>49787</td>\n",
              "      <td>Butantã</td>\n",
              "      <td>2015-06-16 23:34:01.000</td>\n",
              "      <td>5 bandidos, armas, entraram em casa e vasculha...</td>\n",
              "      <td>Avenida Trona Constanzo, 177, Butantã</td>\n",
              "      <td>-23.580973</td>\n",
              "      <td>-46.719192</td>\n",
              "      <td>True</td>\n",
              "      <td>0</td>\n",
              "      <td>6</td>\n",
              "      <td>Entraram na minha casa e ficaram por 2h30</td>\n",
              "      <td>60.0</td>\n",
              "      <td>False</td>\n",
              "      <td>True</td>\n",
              "      <td>True</td>\n",
              "      <td>False</td>\n",
              "      <td>True</td>\n",
              "      <td>False</td>\n",
              "      <td>True</td>\n",
              "      <td>True</td>\n",
              "      <td>False</td>\n",
              "      <td>True</td>\n",
              "      <td>False</td>\n",
              "      <td>True</td>\n",
              "      <td>False</td>\n",
              "      <td>True</td>\n",
              "      <td>False</td>\n",
              "      <td>False</td>\n",
              "      <td>True</td>\n",
              "      <td>True</td>\n",
              "      <td>True</td>\n",
              "      <td>2010-12-20 20:30:00</td>\n",
              "    </tr>\n",
              "    <tr>\n",
              "      <th>2012-01-11 14:00:00</th>\n",
              "      <td>10679</td>\n",
              "      <td>Itaquera</td>\n",
              "      <td>2013-09-11 18:26:31.819</td>\n",
              "      <td>Meu caso foi para o Pequenas Causas, ganhamos ...</td>\n",
              "      <td>Avenida José Pinheiro Borges, 450-876 - Itaque...</td>\n",
              "      <td>-23.540105</td>\n",
              "      <td>-46.462872</td>\n",
              "      <td>True</td>\n",
              "      <td>1</td>\n",
              "      <td>1</td>\n",
              "      <td>Rádio do Carro Furtado</td>\n",
              "      <td>0.0</td>\n",
              "      <td>False</td>\n",
              "      <td>False</td>\n",
              "      <td>False</td>\n",
              "      <td>False</td>\n",
              "      <td>False</td>\n",
              "      <td>False</td>\n",
              "      <td>False</td>\n",
              "      <td>False</td>\n",
              "      <td>False</td>\n",
              "      <td>False</td>\n",
              "      <td>False</td>\n",
              "      <td>False</td>\n",
              "      <td>False</td>\n",
              "      <td>False</td>\n",
              "      <td>True</td>\n",
              "      <td>False</td>\n",
              "      <td>False</td>\n",
              "      <td>False</td>\n",
              "      <td>False</td>\n",
              "      <td>2012-01-11 14:00:00</td>\n",
              "    </tr>\n",
              "    <tr>\n",
              "      <th>2012-01-11 14:00:00</th>\n",
              "      <td>10682</td>\n",
              "      <td>Itaquera</td>\n",
              "      <td>2013-09-11 18:42:07.858</td>\n",
              "      <td>Meu caso foi para o Pequenas Causas, ganhamos ...</td>\n",
              "      <td>Rua Corínthians - Itaquera - Shopping Metrô It...</td>\n",
              "      <td>-23.541765</td>\n",
              "      <td>-46.469562</td>\n",
              "      <td>True</td>\n",
              "      <td>1</td>\n",
              "      <td>1</td>\n",
              "      <td>Rádio do carro furtado no estacionamento PAGO ...</td>\n",
              "      <td>300.0</td>\n",
              "      <td>False</td>\n",
              "      <td>False</td>\n",
              "      <td>False</td>\n",
              "      <td>False</td>\n",
              "      <td>False</td>\n",
              "      <td>False</td>\n",
              "      <td>False</td>\n",
              "      <td>False</td>\n",
              "      <td>False</td>\n",
              "      <td>False</td>\n",
              "      <td>False</td>\n",
              "      <td>False</td>\n",
              "      <td>False</td>\n",
              "      <td>False</td>\n",
              "      <td>True</td>\n",
              "      <td>False</td>\n",
              "      <td>False</td>\n",
              "      <td>False</td>\n",
              "      <td>False</td>\n",
              "      <td>2012-01-11 14:00:00</td>\n",
              "    </tr>\n",
              "    <tr>\n",
              "      <th>2012-01-11 18:20:00</th>\n",
              "      <td>6166</td>\n",
              "      <td>Morumbi</td>\n",
              "      <td>2013-08-20 11:56:52.717</td>\n",
              "      <td>Estava parada no semáforo, o bandido veio e es...</td>\n",
              "      <td>Rua Pasquale Gallupi, 347 - Morumbi, São Paulo...</td>\n",
              "      <td>-23.611693</td>\n",
              "      <td>-46.725935</td>\n",
              "      <td>True</td>\n",
              "      <td>0</td>\n",
              "      <td>5</td>\n",
              "      <td>Quebraram a janela do meu carro</td>\n",
              "      <td>2500.0</td>\n",
              "      <td>False</td>\n",
              "      <td>True</td>\n",
              "      <td>True</td>\n",
              "      <td>True</td>\n",
              "      <td>True</td>\n",
              "      <td>False</td>\n",
              "      <td>False</td>\n",
              "      <td>False</td>\n",
              "      <td>True</td>\n",
              "      <td>False</td>\n",
              "      <td>False</td>\n",
              "      <td>False</td>\n",
              "      <td>False</td>\n",
              "      <td>False</td>\n",
              "      <td>False</td>\n",
              "      <td>False</td>\n",
              "      <td>False</td>\n",
              "      <td>False</td>\n",
              "      <td>False</td>\n",
              "      <td>2012-01-11 18:20:00</td>\n",
              "    </tr>\n",
              "    <tr>\n",
              "      <th>2012-01-11 08:15:00</th>\n",
              "      <td>6521</td>\n",
              "      <td>Alto de Pinheiros</td>\n",
              "      <td>2013-08-20 17:41:21.569</td>\n",
              "      <td>Arrombaram o porta malas do meu carro e levara...</td>\n",
              "      <td>Avenida Professor Fonseca Rodrigues, 1655 - Al...</td>\n",
              "      <td>-23.544564</td>\n",
              "      <td>-46.721567</td>\n",
              "      <td>True</td>\n",
              "      <td>1</td>\n",
              "      <td>1</td>\n",
              "      <td>Arrombaram meu carro que estava no estacioname...</td>\n",
              "      <td>9999.0</td>\n",
              "      <td>False</td>\n",
              "      <td>True</td>\n",
              "      <td>True</td>\n",
              "      <td>True</td>\n",
              "      <td>False</td>\n",
              "      <td>False</td>\n",
              "      <td>False</td>\n",
              "      <td>False</td>\n",
              "      <td>True</td>\n",
              "      <td>False</td>\n",
              "      <td>False</td>\n",
              "      <td>False</td>\n",
              "      <td>False</td>\n",
              "      <td>True</td>\n",
              "      <td>True</td>\n",
              "      <td>False</td>\n",
              "      <td>False</td>\n",
              "      <td>False</td>\n",
              "      <td>False</td>\n",
              "      <td>2012-01-11 08:15:00</td>\n",
              "    </tr>\n",
              "  </tbody>\n",
              "</table>\n",
              "</div>"
            ],
            "text/plain": [
              "                        id             bairro  ...     Tv                time\n",
              "time                                           ...                           \n",
              "2010-12-20 20:30:00  49787            Butantã  ...   True 2010-12-20 20:30:00\n",
              "2012-01-11 14:00:00  10679           Itaquera  ...  False 2012-01-11 14:00:00\n",
              "2012-01-11 14:00:00  10682           Itaquera  ...  False 2012-01-11 14:00:00\n",
              "2012-01-11 18:20:00   6166            Morumbi  ...  False 2012-01-11 18:20:00\n",
              "2012-01-11 08:15:00   6521  Alto de Pinheiros  ...  False 2012-01-11 08:15:00\n",
              "\n",
              "[5 rows x 32 columns]"
            ]
          },
          "metadata": {
            "tags": []
          },
          "execution_count": 45
        }
      ]
    },
    {
      "cell_type": "markdown",
      "metadata": {
        "id": "Df_3Zj7gd9MI"
      },
      "source": [
        "## **Análise Exploratória**"
      ]
    },
    {
      "cell_type": "markdown",
      "metadata": {
        "id": "3BkO7zyneDkp"
      },
      "source": [
        "### Proporção entre homens e mulheres\r\n",
        "\r\n",
        "As descrições do dataset são um pouco confusas, mas tudo indica que `1` represente o sexo `Masculino` e `0`, o `Feminino`.\r\n",
        "\r\n",
        "Usando essa informação como referência, vemos que há, proporcionalmente, mais entradas para a classe **Homens** no universo deste conjunto de dados."
      ]
    },
    {
      "cell_type": "code",
      "metadata": {
        "colab": {
          "base_uri": "https://localhost:8080/",
          "height": 279
        },
        "id": "nl1CeztgeO0i",
        "outputId": "45164b5e-3186-44c6-e9e2-320788458406"
      },
      "source": [
        "# crimes por sexo\r\n",
        "\r\n",
        "sns.countplot(x='sexo', data=df_clean);"
      ],
      "execution_count": 46,
      "outputs": [
        {
          "output_type": "display_data",
          "data": {
            "image/png": "[encoded data removed]",
            "text/plain": [
              "<Figure size 432x288 with 1 Axes>"
            ]
          },
          "metadata": {
            "tags": [],
            "needs_background": "light"
          }
        }
      ]
    },
    {
      "cell_type": "markdown",
      "metadata": {
        "id": "_od_v6VSeaQm"
      },
      "source": [
        "### Boletins de Ocorrência\r\n",
        "\r\n",
        "Instrumento vital para o planejamento estratégico da polícia, o Boletim de Ocorrência deveria ser registrado sempre que ocorresse um crime ou tentativa de crime.\r\n",
        "\r\n",
        "Será que essa é a realidade de São Paulo?\r\n",
        "\r\n",
        "Aqui, vemos que a maioria das pessoas registra boletins de ocorrência. Entretanto, o número, e a proporção em relação ao total desse dataset, de pessoas que não registram boletim de ocorrência ainda é mais alto que o ideal.\r\n"
      ]
    },
    {
      "cell_type": "code",
      "metadata": {
        "colab": {
          "base_uri": "https://localhost:8080/",
          "height": 280
        },
        "id": "HhPJe5CPeddo",
        "outputId": "0c6ca331-304e-458b-f78c-24ed73a0b698"
      },
      "source": [
        "# registro de boletins de ocorrencia\r\n",
        "\r\n",
        "sns.countplot(x='registrou_bo', data=df_clean);"
      ],
      "execution_count": 47,
      "outputs": [
        {
          "output_type": "display_data",
          "data": {
            "image/png": "[encoded data removed]",
            "text/plain": [
              "<Figure size 432x288 with 1 Axes>"
            ]
          },
          "metadata": {
            "tags": [],
            "needs_background": "light"
          }
        }
      ]
    },
    {
      "cell_type": "markdown",
      "metadata": {
        "id": "OPjj_Pcjeoh-"
      },
      "source": [
        "### Criminalidade por bairros\r\n",
        "De acordo com nossos dados, podemos ver que as regiões com maior número de crimes são:\r\n",
        "\r\n",
        "* São Paulo (Área central)\r\n",
        "* Consolação\r\n",
        "* Vila Mariana"
      ]
    },
    {
      "cell_type": "code",
      "metadata": {
        "colab": {
          "base_uri": "https://localhost:8080/",
          "height": 740
        },
        "id": "PJcyOd-AetnM",
        "outputId": "f9047485-a34c-417d-ca97-315005a3fc5d"
      },
      "source": [
        "# coletando e ordenando os valores para cada bairro\r\n",
        "bairros = df_clean.bairro.value_counts().sort_values(ascending = False).iloc[0:30]\r\n",
        "\r\n",
        "# criando a visualização\r\n",
        "\r\n",
        "fig, ax = plt.subplots(figsize=(15,10))  #ajustando o grafico na tela\r\n",
        "sns.barplot(bairros.index, bairros.values);\r\n",
        "\r\n",
        "# definindo o título do eixo y\r\n",
        "plt.ylabel('Número de Crimes')\r\n",
        "# definindo o título do eixo x\r\n",
        "plt.xlabel('Bairros')\r\n",
        "# definindo o título da visualização\r\n",
        "plt.title('Número de Crimes por Bairro')\r\n",
        "#rotacionando a legenda do eixo x para melhor vizualização\r\n",
        "plt.xticks(rotation=90);\r\n",
        "#plotando a visualização\r\n",
        "plt.show()"
      ],
      "execution_count": 51,
      "outputs": [
        {
          "output_type": "stream",
          "text": [
            "/usr/local/lib/python3.6/dist-packages/seaborn/_decorators.py:43: FutureWarning: Pass the following variables as keyword args: x, y. From version 0.12, the only valid positional argument will be `data`, and passing other arguments without an explicit keyword will result in an error or misinterpretation.\n",
            "  FutureWarning\n"
          ],
          "name": "stderr"
        },
        {
          "output_type": "display_data",
          "data": {
            "image/png": "[encoded data removed]",
            "text/plain": [
              "<Figure size 1080x720 with 1 Axes>"
            ]
          },
          "metadata": {
            "tags": [],
            "needs_background": "light"
          }
        }
      ]
    },
    {
      "cell_type": "markdown",
      "metadata": {
        "id": "88kv2pTXgnJ2"
      },
      "source": [
        "### Tendência da criminalidade\r\n",
        "\r\n",
        "Com o advento da internet, e ampliação dos meios de divulgação de informação, temos maior acesso aos dados, e às histórias. Mas será que maior facilidade de acesso às informações significa um aumento nos casos?\r\n",
        "\r\n",
        "Ao mesmo tempo, as tecnologias e estratégias de segurança também foram atualizadas. Qual será o resultado dessa ecuação?\r\n",
        "\r\n",
        "A visualização abaixo nos mostra algumas informações interessantes, como:\r\n",
        "\r\n",
        "* Pico de criminalidade no ano de 2014\r\n",
        "* Diminuição na criminalidade em 2015\r\n",
        "* Volta do crescimento entre 2015 e 2017\r\n",
        "\r\n",
        "Aqui, precisamos considerar que não temos como garantir que os dados foram adquiridos com precisão ao longo destes anos. As diferenças muito grandes levantam sinais de alerta."
      ]
    },
    {
      "cell_type": "code",
      "metadata": {
        "colab": {
          "base_uri": "https://localhost:8080/",
          "height": 528
        },
        "id": "hMRiB-rZgt8E",
        "outputId": "a1def179-273f-4de0-89f1-ab458dee3ab9"
      },
      "source": [
        "# índice de crimes por ano\r\n",
        "# criando a visualização\r\n",
        "\r\n",
        "fig, ax = plt.subplots(figsize=(10,8))\r\n",
        "\r\n",
        "# agrupando os dados por ano e plotando um grafico de barras\r\n",
        "df_clean.groupby([df_clean.index.year]).size().plot(kind='bar')\r\n",
        "\r\n",
        "# definindo o título do eixo y\r\n",
        "plt.ylabel('Ano')\r\n",
        "# definindo o título do eixo x\r\n",
        "plt.xlabel('Número de Crimes')\r\n",
        "# definindo o título da visualização\r\n",
        "plt.title('Número de Crimes por Ano')\r\n",
        "#plotando a visualização\r\n",
        "plt.show()"
      ],
      "execution_count": 53,
      "outputs": [
        {
          "output_type": "display_data",
          "data": {
            "image/png": "[encoded data removed]",
            "text/plain": [
              "<Figure size 720x576 with 1 Axes>"
            ]
          },
          "metadata": {
            "tags": [],
            "needs_background": "light"
          }
        }
      ]
    },
    {
      "cell_type": "markdown",
      "metadata": {
        "id": "9VV4e0Shhl3x"
      },
      "source": [
        "Exportanto agora o dataset limpo"
      ]
    },
    {
      "cell_type": "code",
      "metadata": {
        "id": "svVc_sdlhiBH"
      },
      "source": [
        "# exportar o dataset limpo\r\n",
        "df_clean.to_csv('criminalidade_sp.csv', index=False)"
      ],
      "execution_count": 54,
      "outputs": []
    },
    {
      "cell_type": "markdown",
      "metadata": {
        "id": "dnMmB0-6hsqe"
      },
      "source": [
        "### **OUTLIERS**\r\n",
        "\r\n",
        "Removendo os Outliers das Latitudes e Longitudes\r\n",
        "\r\n"
      ]
    },
    {
      "cell_type": "code",
      "metadata": {
        "colab": {
          "base_uri": "https://localhost:8080/",
          "height": 297
        },
        "id": "SVilu-fhh-If",
        "outputId": "9331f16a-5ec3-4657-a915-e0e4d45c6659"
      },
      "source": [
        "# erros de lançamento em lat/lon\r\n",
        "\r\n",
        "# analisando com describe\r\n",
        "df_clean[['latitude', 'longitude']].describe()"
      ],
      "execution_count": 55,
      "outputs": [
        {
          "output_type": "execute_result",
          "data": {
            "text/html": [
              "<div>\n",
              "<style scoped>\n",
              "    .dataframe tbody tr th:only-of-type {\n",
              "        vertical-align: middle;\n",
              "    }\n",
              "\n",
              "    .dataframe tbody tr th {\n",
              "        vertical-align: top;\n",
              "    }\n",
              "\n",
              "    .dataframe thead th {\n",
              "        text-align: right;\n",
              "    }\n",
              "</style>\n",
              "<table border=\"1\" class=\"dataframe\">\n",
              "  <thead>\n",
              "    <tr style=\"text-align: right;\">\n",
              "      <th></th>\n",
              "      <th>latitude</th>\n",
              "      <th>longitude</th>\n",
              "    </tr>\n",
              "  </thead>\n",
              "  <tbody>\n",
              "    <tr>\n",
              "      <th>count</th>\n",
              "      <td>11196.000000</td>\n",
              "      <td>11196.000000</td>\n",
              "    </tr>\n",
              "    <tr>\n",
              "      <th>mean</th>\n",
              "      <td>-23.565957</td>\n",
              "      <td>-46.637630</td>\n",
              "    </tr>\n",
              "    <tr>\n",
              "      <th>std</th>\n",
              "      <td>0.388178</td>\n",
              "      <td>0.462609</td>\n",
              "    </tr>\n",
              "    <tr>\n",
              "      <th>min</th>\n",
              "      <td>-24.241930</td>\n",
              "      <td>-52.173376</td>\n",
              "    </tr>\n",
              "    <tr>\n",
              "      <th>25%</th>\n",
              "      <td>-23.606828</td>\n",
              "      <td>-46.696568</td>\n",
              "    </tr>\n",
              "    <tr>\n",
              "      <th>50%</th>\n",
              "      <td>-23.567145</td>\n",
              "      <td>-46.648936</td>\n",
              "    </tr>\n",
              "    <tr>\n",
              "      <th>75%</th>\n",
              "      <td>-23.541547</td>\n",
              "      <td>-46.607699</td>\n",
              "    </tr>\n",
              "    <tr>\n",
              "      <th>max</th>\n",
              "      <td>-0.013911</td>\n",
              "      <td>0.004533</td>\n",
              "    </tr>\n",
              "  </tbody>\n",
              "</table>\n",
              "</div>"
            ],
            "text/plain": [
              "           latitude     longitude\n",
              "count  11196.000000  11196.000000\n",
              "mean     -23.565957    -46.637630\n",
              "std        0.388178      0.462609\n",
              "min      -24.241930    -52.173376\n",
              "25%      -23.606828    -46.696568\n",
              "50%      -23.567145    -46.648936\n",
              "75%      -23.541547    -46.607699\n",
              "max       -0.013911      0.004533"
            ]
          },
          "metadata": {
            "tags": []
          },
          "execution_count": 55
        }
      ]
    },
    {
      "cell_type": "code",
      "metadata": {
        "id": "s3lSdCuoiZY-"
      },
      "source": [
        "excluir = df_clean[(df_clean.latitude < -26.6) | (df_clean.latitude > -22)].index\r\n",
        "df_clean = df_clean.drop(index=excluir)"
      ],
      "execution_count": 56,
      "outputs": []
    },
    {
      "cell_type": "code",
      "metadata": {
        "id": "ghgfh4VAialS"
      },
      "source": [
        "excluir = df_clean[(df_clean.longitude < -53) | (df_clean.longitude > -46)].index\r\n",
        "df_clean = df_clean.drop(index=excluir)"
      ],
      "execution_count": 57,
      "outputs": []
    },
    {
      "cell_type": "code",
      "metadata": {
        "colab": {
          "base_uri": "https://localhost:8080/",
          "height": 297
        },
        "id": "CCVy1CEyisS1",
        "outputId": "8a3865f3-58ed-47aa-9644-1a42f7ef36d5"
      },
      "source": [
        "df_clean[['latitude', 'longitude']].describe()"
      ],
      "execution_count": 60,
      "outputs": [
        {
          "output_type": "execute_result",
          "data": {
            "text/html": [
              "<div>\n",
              "<style scoped>\n",
              "    .dataframe tbody tr th:only-of-type {\n",
              "        vertical-align: middle;\n",
              "    }\n",
              "\n",
              "    .dataframe tbody tr th {\n",
              "        vertical-align: top;\n",
              "    }\n",
              "\n",
              "    .dataframe thead th {\n",
              "        text-align: right;\n",
              "    }\n",
              "</style>\n",
              "<table border=\"1\" class=\"dataframe\">\n",
              "  <thead>\n",
              "    <tr style=\"text-align: right;\">\n",
              "      <th></th>\n",
              "      <th>latitude</th>\n",
              "      <th>longitude</th>\n",
              "    </tr>\n",
              "  </thead>\n",
              "  <tbody>\n",
              "    <tr>\n",
              "      <th>count</th>\n",
              "      <td>11171.000000</td>\n",
              "      <td>11171.000000</td>\n",
              "    </tr>\n",
              "    <tr>\n",
              "      <th>mean</th>\n",
              "      <td>-23.574476</td>\n",
              "      <td>-46.643425</td>\n",
              "    </tr>\n",
              "    <tr>\n",
              "      <th>std</th>\n",
              "      <td>0.065713</td>\n",
              "      <td>0.108731</td>\n",
              "    </tr>\n",
              "    <tr>\n",
              "      <th>min</th>\n",
              "      <td>-24.241930</td>\n",
              "      <td>-52.173376</td>\n",
              "    </tr>\n",
              "    <tr>\n",
              "      <th>25%</th>\n",
              "      <td>-23.606902</td>\n",
              "      <td>-46.696571</td>\n",
              "    </tr>\n",
              "    <tr>\n",
              "      <th>50%</th>\n",
              "      <td>-23.567359</td>\n",
              "      <td>-46.648978</td>\n",
              "    </tr>\n",
              "    <tr>\n",
              "      <th>75%</th>\n",
              "      <td>-23.541700</td>\n",
              "      <td>-46.607959</td>\n",
              "    </tr>\n",
              "    <tr>\n",
              "      <th>max</th>\n",
              "      <td>-22.224190</td>\n",
              "      <td>-46.075681</td>\n",
              "    </tr>\n",
              "  </tbody>\n",
              "</table>\n",
              "</div>"
            ],
            "text/plain": [
              "           latitude     longitude\n",
              "count  11171.000000  11171.000000\n",
              "mean     -23.574476    -46.643425\n",
              "std        0.065713      0.108731\n",
              "min      -24.241930    -52.173376\n",
              "25%      -23.606902    -46.696571\n",
              "50%      -23.567359    -46.648978\n",
              "75%      -23.541700    -46.607959\n",
              "max      -22.224190    -46.075681"
            ]
          },
          "metadata": {
            "tags": []
          },
          "execution_count": 60
        }
      ]
    },
    {
      "cell_type": "code",
      "metadata": {
        "id": "JOQpAeMvibrz"
      },
      "source": [
        "# exportar o dataset limpo\r\n",
        "df_clean.to_csv('criminalidade_sp_2.csv', index=False)"
      ],
      "execution_count": null,
      "outputs": []
    }
  ]
}